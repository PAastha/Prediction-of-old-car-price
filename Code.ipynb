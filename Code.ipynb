{
  "nbformat": 4,
  "nbformat_minor": 0,
  "metadata": {
    "colab": {
      "provenance": []
    },
    "kernelspec": {
      "name": "python3",
      "display_name": "Python 3"
    },
    "language_info": {
      "name": "python"
    }
  },
  "cells": [
    {
      "cell_type": "code",
      "execution_count": null,
      "metadata": {
        "id": "54paN0osdtna"
      },
      "outputs": [],
      "source": [
        "#Import the necessary libraries\n",
        "import pandas as pd\n",
        "import numpy as np\n",
        "import matplotlib.pyplot as plt\n",
        "import seaborn  as sns"
      ]
    },
    {
      "cell_type": "code",
      "source": [
        "import warnings\n",
        "warnings.filterwarnings(action='ignore')"
      ],
      "metadata": {
        "id": "qJ533CdeecN2"
      },
      "execution_count": null,
      "outputs": []
    },
    {
      "cell_type": "markdown",
      "source": [
        "# IMPORT DATA "
      ],
      "metadata": {
        "id": "r8s7KQ3menpn"
      }
    },
    {
      "cell_type": "code",
      "source": [
        "training_df=pd.read_csv('/content/Training_Data_Set.csv')\n",
        "training_df.head()\n"
      ],
      "metadata": {
        "colab": {
          "base_uri": "https://localhost:8080/",
          "height": 340
        },
        "id": "afN9TdWlesJ4",
        "outputId": "ca221aae-a83d-4e17-915e-05db8fbf1fd3"
      },
      "execution_count": null,
      "outputs": [
        {
          "output_type": "execute_result",
          "data": {
            "text/plain": [
              "      Id   Maker    model   Location  Distance       Owner Type  \\\n",
              "0  25001   skoda  octavia  Ahmedabad        NaN          Second   \n",
              "1  25002    fiat    panda  Ahmedabad    27750.0           Third   \n",
              "2  25003     bmw       x1  Hyderabad    46000.0           Third   \n",
              "3  25004  nissan     juke     Mumbai    43949.0           Third   \n",
              "4  25005     bmw       x5     Jaipur    59524.0  Fourth & Above   \n",
              "\n",
              "   manufacture_year  Age of car  engine_displacement  engine_power body_type  \\\n",
              "0              1964          55                 1964         147.0   compact   \n",
              "1              2012           7                 1242          51.0       NaN   \n",
              "2              2014           5                 1995         105.0       NaN   \n",
              "3              2011           8                 1618         140.0       NaN   \n",
              "4              2012           7                 2993         180.0       NaN   \n",
              "\n",
              "   Vroom Audit Rating transmission door_count seat_count fuel_type       Price  \n",
              "0                   8          man       None       None    petrol   543764.25  \n",
              "1                   6          man          4          4    petrol   401819.25  \n",
              "2                   7         auto          4          5    diesel  2392855.50  \n",
              "3                   7          man          4          5    petrol   958606.50  \n",
              "4                   7         auto          4          5    diesel  3085561.50  "
            ],
            "text/html": [
              "\n",
              "  <div id=\"df-dd4bb7a8-f370-4d97-8292-7f59154e3d68\">\n",
              "    <div class=\"colab-df-container\">\n",
              "      <div>\n",
              "<style scoped>\n",
              "    .dataframe tbody tr th:only-of-type {\n",
              "        vertical-align: middle;\n",
              "    }\n",
              "\n",
              "    .dataframe tbody tr th {\n",
              "        vertical-align: top;\n",
              "    }\n",
              "\n",
              "    .dataframe thead th {\n",
              "        text-align: right;\n",
              "    }\n",
              "</style>\n",
              "<table border=\"1\" class=\"dataframe\">\n",
              "  <thead>\n",
              "    <tr style=\"text-align: right;\">\n",
              "      <th></th>\n",
              "      <th>Id</th>\n",
              "      <th>Maker</th>\n",
              "      <th>model</th>\n",
              "      <th>Location</th>\n",
              "      <th>Distance</th>\n",
              "      <th>Owner Type</th>\n",
              "      <th>manufacture_year</th>\n",
              "      <th>Age of car</th>\n",
              "      <th>engine_displacement</th>\n",
              "      <th>engine_power</th>\n",
              "      <th>body_type</th>\n",
              "      <th>Vroom Audit Rating</th>\n",
              "      <th>transmission</th>\n",
              "      <th>door_count</th>\n",
              "      <th>seat_count</th>\n",
              "      <th>fuel_type</th>\n",
              "      <th>Price</th>\n",
              "    </tr>\n",
              "  </thead>\n",
              "  <tbody>\n",
              "    <tr>\n",
              "      <th>0</th>\n",
              "      <td>25001</td>\n",
              "      <td>skoda</td>\n",
              "      <td>octavia</td>\n",
              "      <td>Ahmedabad</td>\n",
              "      <td>NaN</td>\n",
              "      <td>Second</td>\n",
              "      <td>1964</td>\n",
              "      <td>55</td>\n",
              "      <td>1964</td>\n",
              "      <td>147.0</td>\n",
              "      <td>compact</td>\n",
              "      <td>8</td>\n",
              "      <td>man</td>\n",
              "      <td>None</td>\n",
              "      <td>None</td>\n",
              "      <td>petrol</td>\n",
              "      <td>543764.25</td>\n",
              "    </tr>\n",
              "    <tr>\n",
              "      <th>1</th>\n",
              "      <td>25002</td>\n",
              "      <td>fiat</td>\n",
              "      <td>panda</td>\n",
              "      <td>Ahmedabad</td>\n",
              "      <td>27750.0</td>\n",
              "      <td>Third</td>\n",
              "      <td>2012</td>\n",
              "      <td>7</td>\n",
              "      <td>1242</td>\n",
              "      <td>51.0</td>\n",
              "      <td>NaN</td>\n",
              "      <td>6</td>\n",
              "      <td>man</td>\n",
              "      <td>4</td>\n",
              "      <td>4</td>\n",
              "      <td>petrol</td>\n",
              "      <td>401819.25</td>\n",
              "    </tr>\n",
              "    <tr>\n",
              "      <th>2</th>\n",
              "      <td>25003</td>\n",
              "      <td>bmw</td>\n",
              "      <td>x1</td>\n",
              "      <td>Hyderabad</td>\n",
              "      <td>46000.0</td>\n",
              "      <td>Third</td>\n",
              "      <td>2014</td>\n",
              "      <td>5</td>\n",
              "      <td>1995</td>\n",
              "      <td>105.0</td>\n",
              "      <td>NaN</td>\n",
              "      <td>7</td>\n",
              "      <td>auto</td>\n",
              "      <td>4</td>\n",
              "      <td>5</td>\n",
              "      <td>diesel</td>\n",
              "      <td>2392855.50</td>\n",
              "    </tr>\n",
              "    <tr>\n",
              "      <th>3</th>\n",
              "      <td>25004</td>\n",
              "      <td>nissan</td>\n",
              "      <td>juke</td>\n",
              "      <td>Mumbai</td>\n",
              "      <td>43949.0</td>\n",
              "      <td>Third</td>\n",
              "      <td>2011</td>\n",
              "      <td>8</td>\n",
              "      <td>1618</td>\n",
              "      <td>140.0</td>\n",
              "      <td>NaN</td>\n",
              "      <td>7</td>\n",
              "      <td>man</td>\n",
              "      <td>4</td>\n",
              "      <td>5</td>\n",
              "      <td>petrol</td>\n",
              "      <td>958606.50</td>\n",
              "    </tr>\n",
              "    <tr>\n",
              "      <th>4</th>\n",
              "      <td>25005</td>\n",
              "      <td>bmw</td>\n",
              "      <td>x5</td>\n",
              "      <td>Jaipur</td>\n",
              "      <td>59524.0</td>\n",
              "      <td>Fourth &amp; Above</td>\n",
              "      <td>2012</td>\n",
              "      <td>7</td>\n",
              "      <td>2993</td>\n",
              "      <td>180.0</td>\n",
              "      <td>NaN</td>\n",
              "      <td>7</td>\n",
              "      <td>auto</td>\n",
              "      <td>4</td>\n",
              "      <td>5</td>\n",
              "      <td>diesel</td>\n",
              "      <td>3085561.50</td>\n",
              "    </tr>\n",
              "  </tbody>\n",
              "</table>\n",
              "</div>\n",
              "      <button class=\"colab-df-convert\" onclick=\"convertToInteractive('df-dd4bb7a8-f370-4d97-8292-7f59154e3d68')\"\n",
              "              title=\"Convert this dataframe to an interactive table.\"\n",
              "              style=\"display:none;\">\n",
              "        \n",
              "  <svg xmlns=\"http://www.w3.org/2000/svg\" height=\"24px\"viewBox=\"0 0 24 24\"\n",
              "       width=\"24px\">\n",
              "    <path d=\"M0 0h24v24H0V0z\" fill=\"none\"/>\n",
              "    <path d=\"M18.56 5.44l.94 2.06.94-2.06 2.06-.94-2.06-.94-.94-2.06-.94 2.06-2.06.94zm-11 1L8.5 8.5l.94-2.06 2.06-.94-2.06-.94L8.5 2.5l-.94 2.06-2.06.94zm10 10l.94 2.06.94-2.06 2.06-.94-2.06-.94-.94-2.06-.94 2.06-2.06.94z\"/><path d=\"M17.41 7.96l-1.37-1.37c-.4-.4-.92-.59-1.43-.59-.52 0-1.04.2-1.43.59L10.3 9.45l-7.72 7.72c-.78.78-.78 2.05 0 2.83L4 21.41c.39.39.9.59 1.41.59.51 0 1.02-.2 1.41-.59l7.78-7.78 2.81-2.81c.8-.78.8-2.07 0-2.86zM5.41 20L4 18.59l7.72-7.72 1.47 1.35L5.41 20z\"/>\n",
              "  </svg>\n",
              "      </button>\n",
              "      \n",
              "  <style>\n",
              "    .colab-df-container {\n",
              "      display:flex;\n",
              "      flex-wrap:wrap;\n",
              "      gap: 12px;\n",
              "    }\n",
              "\n",
              "    .colab-df-convert {\n",
              "      background-color: #E8F0FE;\n",
              "      border: none;\n",
              "      border-radius: 50%;\n",
              "      cursor: pointer;\n",
              "      display: none;\n",
              "      fill: #1967D2;\n",
              "      height: 32px;\n",
              "      padding: 0 0 0 0;\n",
              "      width: 32px;\n",
              "    }\n",
              "\n",
              "    .colab-df-convert:hover {\n",
              "      background-color: #E2EBFA;\n",
              "      box-shadow: 0px 1px 2px rgba(60, 64, 67, 0.3), 0px 1px 3px 1px rgba(60, 64, 67, 0.15);\n",
              "      fill: #174EA6;\n",
              "    }\n",
              "\n",
              "    [theme=dark] .colab-df-convert {\n",
              "      background-color: #3B4455;\n",
              "      fill: #D2E3FC;\n",
              "    }\n",
              "\n",
              "    [theme=dark] .colab-df-convert:hover {\n",
              "      background-color: #434B5C;\n",
              "      box-shadow: 0px 1px 3px 1px rgba(0, 0, 0, 0.15);\n",
              "      filter: drop-shadow(0px 1px 2px rgba(0, 0, 0, 0.3));\n",
              "      fill: #FFFFFF;\n",
              "    }\n",
              "  </style>\n",
              "\n",
              "      <script>\n",
              "        const buttonEl =\n",
              "          document.querySelector('#df-dd4bb7a8-f370-4d97-8292-7f59154e3d68 button.colab-df-convert');\n",
              "        buttonEl.style.display =\n",
              "          google.colab.kernel.accessAllowed ? 'block' : 'none';\n",
              "\n",
              "        async function convertToInteractive(key) {\n",
              "          const element = document.querySelector('#df-dd4bb7a8-f370-4d97-8292-7f59154e3d68');\n",
              "          const dataTable =\n",
              "            await google.colab.kernel.invokeFunction('convertToInteractive',\n",
              "                                                     [key], {});\n",
              "          if (!dataTable) return;\n",
              "\n",
              "          const docLinkHtml = 'Like what you see? Visit the ' +\n",
              "            '<a target=\"_blank\" href=https://colab.research.google.com/notebooks/data_table.ipynb>data table notebook</a>'\n",
              "            + ' to learn more about interactive tables.';\n",
              "          element.innerHTML = '';\n",
              "          dataTable['output_type'] = 'display_data';\n",
              "          await google.colab.output.renderOutput(dataTable, element);\n",
              "          const docLink = document.createElement('div');\n",
              "          docLink.innerHTML = docLinkHtml;\n",
              "          element.appendChild(docLink);\n",
              "        }\n",
              "      </script>\n",
              "    </div>\n",
              "  </div>\n",
              "  "
            ]
          },
          "metadata": {},
          "execution_count": 3
        }
      ]
    },
    {
      "cell_type": "code",
      "source": [
        "testing_df=pd.read_csv('/content/Test_Data_Set.csv')\n",
        "testing_df.head()"
      ],
      "metadata": {
        "colab": {
          "base_uri": "https://localhost:8080/",
          "height": 340
        },
        "id": "NOXxaqDZSN0J",
        "outputId": "61c57350-e546-4090-eada-c887d35def83"
      },
      "execution_count": null,
      "outputs": [
        {
          "output_type": "execute_result",
          "data": {
            "text/plain": [
              "      Id  Maker    model    Location  Distance       Owner Type  \\\n",
              "0  11001  skoda  octavia      Mumbai   150000.0           First   \n",
              "1  11002  skoda    rapid  Coimbatore    29376.0           Third   \n",
              "2  11003  skoda  octavia  Coimbatore    30563.0          Second   \n",
              "3  11004   audi       q3       Delhi     8650.0  Fourth & Above   \n",
              "4  11005   audi       tt     Chennai     6400.0           Third   \n",
              "\n",
              "   manufacture_year  Age of car  engine_displacement  engine_power body_type  \\\n",
              "0              2007          12                 1595          75.0       NaN   \n",
              "1              2014           5                 1598          77.0       NaN   \n",
              "2              2014           5                 1968         110.0       NaN   \n",
              "3              2015           4                 1968         110.0       NaN   \n",
              "4              2015           4                 1984         169.0       NaN   \n",
              "\n",
              "   Vroom Audit Rating transmission door_count seat_count fuel_type  \n",
              "0                   5          man          4          5    petrol  \n",
              "1                   4          man          4          5    diesel  \n",
              "2                   5          man          5          5    diesel  \n",
              "3                   8         auto          4          5    diesel  \n",
              "4                   4         auto          2       None    petrol  "
            ],
            "text/html": [
              "\n",
              "  <div id=\"df-d5027972-4ee1-4455-8987-dfe3ca2048e9\">\n",
              "    <div class=\"colab-df-container\">\n",
              "      <div>\n",
              "<style scoped>\n",
              "    .dataframe tbody tr th:only-of-type {\n",
              "        vertical-align: middle;\n",
              "    }\n",
              "\n",
              "    .dataframe tbody tr th {\n",
              "        vertical-align: top;\n",
              "    }\n",
              "\n",
              "    .dataframe thead th {\n",
              "        text-align: right;\n",
              "    }\n",
              "</style>\n",
              "<table border=\"1\" class=\"dataframe\">\n",
              "  <thead>\n",
              "    <tr style=\"text-align: right;\">\n",
              "      <th></th>\n",
              "      <th>Id</th>\n",
              "      <th>Maker</th>\n",
              "      <th>model</th>\n",
              "      <th>Location</th>\n",
              "      <th>Distance</th>\n",
              "      <th>Owner Type</th>\n",
              "      <th>manufacture_year</th>\n",
              "      <th>Age of car</th>\n",
              "      <th>engine_displacement</th>\n",
              "      <th>engine_power</th>\n",
              "      <th>body_type</th>\n",
              "      <th>Vroom Audit Rating</th>\n",
              "      <th>transmission</th>\n",
              "      <th>door_count</th>\n",
              "      <th>seat_count</th>\n",
              "      <th>fuel_type</th>\n",
              "    </tr>\n",
              "  </thead>\n",
              "  <tbody>\n",
              "    <tr>\n",
              "      <th>0</th>\n",
              "      <td>11001</td>\n",
              "      <td>skoda</td>\n",
              "      <td>octavia</td>\n",
              "      <td>Mumbai</td>\n",
              "      <td>150000.0</td>\n",
              "      <td>First</td>\n",
              "      <td>2007</td>\n",
              "      <td>12</td>\n",
              "      <td>1595</td>\n",
              "      <td>75.0</td>\n",
              "      <td>NaN</td>\n",
              "      <td>5</td>\n",
              "      <td>man</td>\n",
              "      <td>4</td>\n",
              "      <td>5</td>\n",
              "      <td>petrol</td>\n",
              "    </tr>\n",
              "    <tr>\n",
              "      <th>1</th>\n",
              "      <td>11002</td>\n",
              "      <td>skoda</td>\n",
              "      <td>rapid</td>\n",
              "      <td>Coimbatore</td>\n",
              "      <td>29376.0</td>\n",
              "      <td>Third</td>\n",
              "      <td>2014</td>\n",
              "      <td>5</td>\n",
              "      <td>1598</td>\n",
              "      <td>77.0</td>\n",
              "      <td>NaN</td>\n",
              "      <td>4</td>\n",
              "      <td>man</td>\n",
              "      <td>4</td>\n",
              "      <td>5</td>\n",
              "      <td>diesel</td>\n",
              "    </tr>\n",
              "    <tr>\n",
              "      <th>2</th>\n",
              "      <td>11003</td>\n",
              "      <td>skoda</td>\n",
              "      <td>octavia</td>\n",
              "      <td>Coimbatore</td>\n",
              "      <td>30563.0</td>\n",
              "      <td>Second</td>\n",
              "      <td>2014</td>\n",
              "      <td>5</td>\n",
              "      <td>1968</td>\n",
              "      <td>110.0</td>\n",
              "      <td>NaN</td>\n",
              "      <td>5</td>\n",
              "      <td>man</td>\n",
              "      <td>5</td>\n",
              "      <td>5</td>\n",
              "      <td>diesel</td>\n",
              "    </tr>\n",
              "    <tr>\n",
              "      <th>3</th>\n",
              "      <td>11004</td>\n",
              "      <td>audi</td>\n",
              "      <td>q3</td>\n",
              "      <td>Delhi</td>\n",
              "      <td>8650.0</td>\n",
              "      <td>Fourth &amp; Above</td>\n",
              "      <td>2015</td>\n",
              "      <td>4</td>\n",
              "      <td>1968</td>\n",
              "      <td>110.0</td>\n",
              "      <td>NaN</td>\n",
              "      <td>8</td>\n",
              "      <td>auto</td>\n",
              "      <td>4</td>\n",
              "      <td>5</td>\n",
              "      <td>diesel</td>\n",
              "    </tr>\n",
              "    <tr>\n",
              "      <th>4</th>\n",
              "      <td>11005</td>\n",
              "      <td>audi</td>\n",
              "      <td>tt</td>\n",
              "      <td>Chennai</td>\n",
              "      <td>6400.0</td>\n",
              "      <td>Third</td>\n",
              "      <td>2015</td>\n",
              "      <td>4</td>\n",
              "      <td>1984</td>\n",
              "      <td>169.0</td>\n",
              "      <td>NaN</td>\n",
              "      <td>4</td>\n",
              "      <td>auto</td>\n",
              "      <td>2</td>\n",
              "      <td>None</td>\n",
              "      <td>petrol</td>\n",
              "    </tr>\n",
              "  </tbody>\n",
              "</table>\n",
              "</div>\n",
              "      <button class=\"colab-df-convert\" onclick=\"convertToInteractive('df-d5027972-4ee1-4455-8987-dfe3ca2048e9')\"\n",
              "              title=\"Convert this dataframe to an interactive table.\"\n",
              "              style=\"display:none;\">\n",
              "        \n",
              "  <svg xmlns=\"http://www.w3.org/2000/svg\" height=\"24px\"viewBox=\"0 0 24 24\"\n",
              "       width=\"24px\">\n",
              "    <path d=\"M0 0h24v24H0V0z\" fill=\"none\"/>\n",
              "    <path d=\"M18.56 5.44l.94 2.06.94-2.06 2.06-.94-2.06-.94-.94-2.06-.94 2.06-2.06.94zm-11 1L8.5 8.5l.94-2.06 2.06-.94-2.06-.94L8.5 2.5l-.94 2.06-2.06.94zm10 10l.94 2.06.94-2.06 2.06-.94-2.06-.94-.94-2.06-.94 2.06-2.06.94z\"/><path d=\"M17.41 7.96l-1.37-1.37c-.4-.4-.92-.59-1.43-.59-.52 0-1.04.2-1.43.59L10.3 9.45l-7.72 7.72c-.78.78-.78 2.05 0 2.83L4 21.41c.39.39.9.59 1.41.59.51 0 1.02-.2 1.41-.59l7.78-7.78 2.81-2.81c.8-.78.8-2.07 0-2.86zM5.41 20L4 18.59l7.72-7.72 1.47 1.35L5.41 20z\"/>\n",
              "  </svg>\n",
              "      </button>\n",
              "      \n",
              "  <style>\n",
              "    .colab-df-container {\n",
              "      display:flex;\n",
              "      flex-wrap:wrap;\n",
              "      gap: 12px;\n",
              "    }\n",
              "\n",
              "    .colab-df-convert {\n",
              "      background-color: #E8F0FE;\n",
              "      border: none;\n",
              "      border-radius: 50%;\n",
              "      cursor: pointer;\n",
              "      display: none;\n",
              "      fill: #1967D2;\n",
              "      height: 32px;\n",
              "      padding: 0 0 0 0;\n",
              "      width: 32px;\n",
              "    }\n",
              "\n",
              "    .colab-df-convert:hover {\n",
              "      background-color: #E2EBFA;\n",
              "      box-shadow: 0px 1px 2px rgba(60, 64, 67, 0.3), 0px 1px 3px 1px rgba(60, 64, 67, 0.15);\n",
              "      fill: #174EA6;\n",
              "    }\n",
              "\n",
              "    [theme=dark] .colab-df-convert {\n",
              "      background-color: #3B4455;\n",
              "      fill: #D2E3FC;\n",
              "    }\n",
              "\n",
              "    [theme=dark] .colab-df-convert:hover {\n",
              "      background-color: #434B5C;\n",
              "      box-shadow: 0px 1px 3px 1px rgba(0, 0, 0, 0.15);\n",
              "      filter: drop-shadow(0px 1px 2px rgba(0, 0, 0, 0.3));\n",
              "      fill: #FFFFFF;\n",
              "    }\n",
              "  </style>\n",
              "\n",
              "      <script>\n",
              "        const buttonEl =\n",
              "          document.querySelector('#df-d5027972-4ee1-4455-8987-dfe3ca2048e9 button.colab-df-convert');\n",
              "        buttonEl.style.display =\n",
              "          google.colab.kernel.accessAllowed ? 'block' : 'none';\n",
              "\n",
              "        async function convertToInteractive(key) {\n",
              "          const element = document.querySelector('#df-d5027972-4ee1-4455-8987-dfe3ca2048e9');\n",
              "          const dataTable =\n",
              "            await google.colab.kernel.invokeFunction('convertToInteractive',\n",
              "                                                     [key], {});\n",
              "          if (!dataTable) return;\n",
              "\n",
              "          const docLinkHtml = 'Like what you see? Visit the ' +\n",
              "            '<a target=\"_blank\" href=https://colab.research.google.com/notebooks/data_table.ipynb>data table notebook</a>'\n",
              "            + ' to learn more about interactive tables.';\n",
              "          element.innerHTML = '';\n",
              "          dataTable['output_type'] = 'display_data';\n",
              "          await google.colab.output.renderOutput(dataTable, element);\n",
              "          const docLink = document.createElement('div');\n",
              "          docLink.innerHTML = docLinkHtml;\n",
              "          element.appendChild(docLink);\n",
              "        }\n",
              "      </script>\n",
              "    </div>\n",
              "  </div>\n",
              "  "
            ]
          },
          "metadata": {},
          "execution_count": 4
        }
      ]
    },
    {
      "cell_type": "markdown",
      "source": [
        "# Dataset descriptions"
      ],
      "metadata": {
        "id": "Fa6VQ4fVfmLR"
      }
    },
    {
      "cell_type": "code",
      "source": [
        "training_df.shape"
      ],
      "metadata": {
        "colab": {
          "base_uri": "https://localhost:8080/"
        },
        "id": "7bUfPOhUftc6",
        "outputId": "48533a10-55bf-49ba-c3f0-28b06eb49ee4"
      },
      "execution_count": null,
      "outputs": [
        {
          "output_type": "execute_result",
          "data": {
            "text/plain": [
              "(53515, 17)"
            ]
          },
          "metadata": {},
          "execution_count": 5
        }
      ]
    },
    {
      "cell_type": "code",
      "source": [
        "testing_df.shape"
      ],
      "metadata": {
        "colab": {
          "base_uri": "https://localhost:8080/"
        },
        "id": "0cfUglJQSaYf",
        "outputId": "39405e64-751e-45b2-ed0f-4b0123d54753"
      },
      "execution_count": null,
      "outputs": [
        {
          "output_type": "execute_result",
          "data": {
            "text/plain": [
              "(5615, 16)"
            ]
          },
          "metadata": {},
          "execution_count": 6
        }
      ]
    },
    {
      "cell_type": "code",
      "source": [
        "training_df.info()"
      ],
      "metadata": {
        "colab": {
          "base_uri": "https://localhost:8080/"
        },
        "id": "LpGPUkDjggws",
        "outputId": "ad83cfab-0e9f-4f5b-eae4-8df247b6e9b4"
      },
      "execution_count": null,
      "outputs": [
        {
          "output_type": "stream",
          "name": "stdout",
          "text": [
            "<class 'pandas.core.frame.DataFrame'>\n",
            "RangeIndex: 53515 entries, 0 to 53514\n",
            "Data columns (total 17 columns):\n",
            " #   Column               Non-Null Count  Dtype  \n",
            "---  ------               --------------  -----  \n",
            " 0   Id                   53515 non-null  int64  \n",
            " 1   Maker                53515 non-null  object \n",
            " 2   model                53515 non-null  object \n",
            " 3   Location             53515 non-null  object \n",
            " 4   Distance             52304 non-null  float64\n",
            " 5   Owner Type           53515 non-null  object \n",
            " 6   manufacture_year     53515 non-null  int64  \n",
            " 7   Age of car           53515 non-null  int64  \n",
            " 8   engine_displacement  53515 non-null  int64  \n",
            " 9   engine_power         52076 non-null  float64\n",
            " 10  body_type            4136 non-null   object \n",
            " 11  Vroom Audit Rating   53515 non-null  int64  \n",
            " 12  transmission         53515 non-null  object \n",
            " 13  door_count           53515 non-null  object \n",
            " 14  seat_count           53515 non-null  object \n",
            " 15  fuel_type            53515 non-null  object \n",
            " 16  Price                53515 non-null  float64\n",
            "dtypes: float64(3), int64(5), object(9)\n",
            "memory usage: 6.9+ MB\n"
          ]
        }
      ]
    },
    {
      "cell_type": "markdown",
      "source": [
        "Description of each column/Features\n",
        "Id: A unique identifier for each car in the dataset.\n",
        "\n",
        "Maker: The brand or manufacturer of the car.\n",
        "\n",
        "Model: The specific model or version of the car.\n",
        "\n",
        "Location: The location of the car, which may refer to a dealership or the location of the owner.\n",
        "\n",
        "Distance: The distance traveled by the car, which may be indicated in kilometers \n",
        "\n",
        "Owner Type: The type of owner of the car.\n",
        "\n",
        "Manufacture Year: The year when the car was manufactured.\n",
        "\n",
        "Age of Car: The age of the car, which can be calculated by subtracting the manufacture year from the current year.\n",
        "\n",
        "Engine Displacement: The size of the engine in cubic centimeters (cc) or liters.\n",
        "\n",
        "Engine Power: The power output of the engine, typically measured in horsepower (hp) or kilowatts (kW).\n",
        "\n",
        "Body Type: The type of body or design of the car\n",
        "\n",
        "Vroom Audit Rating: A rating system used to evaluate the condition or quality of the car.\n",
        "\n",
        "Transmission: The type of transmission used in the car, such as manual or automatic.\n",
        "\n",
        "Door Count: The number of doors in the car, which may include the trunk or hatchback door.\n",
        "\n",
        "Seat Count: The number of seats in the car, including the driver's seat.\n",
        "\n",
        "Fuel Type: The type of fuel used by the car, such as petrol or diesel\n",
        "\n",
        "Price: The price of the car, typically in a specific currency.\n",
        "\n",
        "\n"
      ],
      "metadata": {
        "id": "vLP30K4gjfzc"
      }
    },
    {
      "cell_type": "markdown",
      "source": [
        "There are few features that has null values that needs to be cleaned,also few features needs to be transformed into numerical data types from categorical to feed into model\n"
      ],
      "metadata": {
        "id": "BT_IDWeVg1zn"
      }
    },
    {
      "cell_type": "code",
      "source": [
        "training_df.columns"
      ],
      "metadata": {
        "colab": {
          "base_uri": "https://localhost:8080/"
        },
        "id": "9PQoO_wgiBwY",
        "outputId": "9cc347d2-147a-4b78-a4a2-30bd6e65af9f"
      },
      "execution_count": null,
      "outputs": [
        {
          "output_type": "execute_result",
          "data": {
            "text/plain": [
              "Index(['Id', 'Maker', 'model', 'Location', 'Distance ', 'Owner Type',\n",
              "       'manufacture_year', 'Age of car', 'engine_displacement', 'engine_power',\n",
              "       'body_type', 'Vroom Audit Rating', 'transmission', 'door_count',\n",
              "       'seat_count', 'fuel_type', 'Price'],\n",
              "      dtype='object')"
            ]
          },
          "metadata": {},
          "execution_count": 8
        }
      ]
    },
    {
      "cell_type": "code",
      "source": [
        "testing_df.columns"
      ],
      "metadata": {
        "colab": {
          "base_uri": "https://localhost:8080/"
        },
        "id": "XVn_f6WASe89",
        "outputId": "625ab108-b281-445a-df47-5a2b48bc71f5"
      },
      "execution_count": null,
      "outputs": [
        {
          "output_type": "execute_result",
          "data": {
            "text/plain": [
              "Index(['Id', 'Maker', 'model', 'Location', 'Distance ', 'Owner Type',\n",
              "       'manufacture_year', 'Age of car', 'engine_displacement', 'engine_power',\n",
              "       'body_type', 'Vroom Audit Rating', 'transmission', 'door_count',\n",
              "       'seat_count', 'fuel_type'],\n",
              "      dtype='object')"
            ]
          },
          "metadata": {},
          "execution_count": 9
        }
      ]
    },
    {
      "cell_type": "code",
      "source": [
        "data_sets = [training_df, testing_df]"
      ],
      "metadata": {
        "id": "ksNKJhBnSpQR"
      },
      "execution_count": null,
      "outputs": []
    },
    {
      "cell_type": "markdown",
      "source": [
        "# Data Cleaning and Transformation "
      ],
      "metadata": {
        "id": "aKPpFFhEkPSZ"
      }
    },
    {
      "cell_type": "code",
      "source": [
        "#Drop Id and Price from the training features\n",
        "for df in data_sets:\n",
        "  df.drop(columns=['Id'],inplace=True)"
      ],
      "metadata": {
        "id": "e9BaxaaQkOLC"
      },
      "execution_count": null,
      "outputs": []
    },
    {
      "cell_type": "code",
      "source": [
        "print('Null values for each column')\n",
        "training_df.isnull().sum()"
      ],
      "metadata": {
        "colab": {
          "base_uri": "https://localhost:8080/"
        },
        "id": "YiTV06bklBKJ",
        "outputId": "3d46c0dd-3f9d-4168-db36-5c60ce79759e"
      },
      "execution_count": null,
      "outputs": [
        {
          "output_type": "stream",
          "name": "stdout",
          "text": [
            "Null values for each column\n"
          ]
        },
        {
          "output_type": "execute_result",
          "data": {
            "text/plain": [
              "Maker                      0\n",
              "model                      0\n",
              "Location                   0\n",
              "Distance                1211\n",
              "Owner Type                 0\n",
              "manufacture_year           0\n",
              "Age of car                 0\n",
              "engine_displacement        0\n",
              "engine_power            1439\n",
              "body_type              49379\n",
              "Vroom Audit Rating         0\n",
              "transmission               0\n",
              "door_count                 0\n",
              "seat_count                 0\n",
              "fuel_type                  0\n",
              "Price                      0\n",
              "dtype: int64"
            ]
          },
          "metadata": {},
          "execution_count": 12
        }
      ]
    },
    {
      "cell_type": "code",
      "source": [
        "testing_df.isnull().sum()"
      ],
      "metadata": {
        "colab": {
          "base_uri": "https://localhost:8080/"
        },
        "id": "UjGMehi2TUIm",
        "outputId": "edd53556-ddc4-4d02-c04b-d786e5707a7b"
      },
      "execution_count": null,
      "outputs": [
        {
          "output_type": "execute_result",
          "data": {
            "text/plain": [
              "Maker                     0\n",
              "model                     0\n",
              "Location                  0\n",
              "Distance                128\n",
              "Owner Type                0\n",
              "manufacture_year          0\n",
              "Age of car                0\n",
              "engine_displacement       0\n",
              "engine_power            168\n",
              "body_type              5193\n",
              "Vroom Audit Rating        0\n",
              "transmission              0\n",
              "door_count                0\n",
              "seat_count                0\n",
              "fuel_type                 0\n",
              "dtype: int64"
            ]
          },
          "metadata": {},
          "execution_count": 13
        }
      ]
    },
    {
      "cell_type": "code",
      "source": [
        "for  df in data_sets:\n",
        "  df['Distance ']=df['Distance '].fillna(df['Distance '].mean())"
      ],
      "metadata": {
        "id": "vhP10q4wlOpU"
      },
      "execution_count": null,
      "outputs": []
    },
    {
      "cell_type": "code",
      "source": [
        "training_df['Distance ']"
      ],
      "metadata": {
        "colab": {
          "base_uri": "https://localhost:8080/"
        },
        "id": "Y3yo4HtMneA2",
        "outputId": "07501859-0b40-4afd-ef9c-299f875f5987"
      },
      "execution_count": null,
      "outputs": [
        {
          "output_type": "execute_result",
          "data": {
            "text/plain": [
              "0        9.454626e+04\n",
              "1        2.775000e+04\n",
              "2        4.600000e+04\n",
              "3        4.394900e+04\n",
              "4        5.952400e+04\n",
              "             ...     \n",
              "53510    2.933400e+04\n",
              "53511    2.236310e+05\n",
              "53512    2.550000e+04\n",
              "53513    1.195500e+06\n",
              "53514    1.420000e+05\n",
              "Name: Distance , Length: 53515, dtype: float64"
            ]
          },
          "metadata": {},
          "execution_count": 15
        }
      ]
    },
    {
      "cell_type": "code",
      "source": [
        "for df in data_sets:\n",
        "  df['engine_power']=df['engine_power'].fillna(df['engine_power'].mean())"
      ],
      "metadata": {
        "id": "__M-4cyBoLOR"
      },
      "execution_count": null,
      "outputs": []
    },
    {
      "cell_type": "code",
      "source": [
        "training_df['engine_power']"
      ],
      "metadata": {
        "colab": {
          "base_uri": "https://localhost:8080/"
        },
        "id": "aheA9eT2oTnp",
        "outputId": "092717c3-24d2-4bce-d138-4654cff1e650"
      },
      "execution_count": null,
      "outputs": [
        {
          "output_type": "execute_result",
          "data": {
            "text/plain": [
              "0        147.0\n",
              "1         51.0\n",
              "2        105.0\n",
              "3        140.0\n",
              "4        180.0\n",
              "         ...  \n",
              "53510     77.0\n",
              "53511     77.0\n",
              "53512    105.0\n",
              "53513     93.0\n",
              "53514    173.0\n",
              "Name: engine_power, Length: 53515, dtype: float64"
            ]
          },
          "metadata": {},
          "execution_count": 17
        }
      ]
    },
    {
      "cell_type": "code",
      "source": [
        "#Since body_type is categorical, and a lot of these data are missing...we need to treat it\n",
        "training_df['body_type'].value_counts()"
      ],
      "metadata": {
        "id": "pW5lo1XdoWS4",
        "colab": {
          "base_uri": "https://localhost:8080/"
        },
        "outputId": "bb11c6b8-db97-414b-ac6d-36cba9f9b34b"
      },
      "execution_count": null,
      "outputs": [
        {
          "output_type": "execute_result",
          "data": {
            "text/plain": [
              "compact    4127\n",
              "van           9\n",
              "Name: body_type, dtype: int64"
            ]
          },
          "metadata": {},
          "execution_count": 18
        }
      ]
    },
    {
      "cell_type": "code",
      "source": [
        "testing_df['body_type'].value_counts()"
      ],
      "metadata": {
        "colab": {
          "base_uri": "https://localhost:8080/"
        },
        "id": "8ufNIri5UV_X",
        "outputId": "e2e71bce-7593-421c-ac8e-6d9350e5e24b"
      },
      "execution_count": null,
      "outputs": [
        {
          "output_type": "execute_result",
          "data": {
            "text/plain": [
              "compact    421\n",
              "van          1\n",
              "Name: body_type, dtype: int64"
            ]
          },
          "metadata": {},
          "execution_count": 19
        }
      ]
    },
    {
      "cell_type": "code",
      "source": [
        "#let's drop the column since  it doesnot  make sense to fill the missing data \n",
        "for df in data_sets:\n",
        "  df.drop(columns=['body_type'],inplace=True)"
      ],
      "metadata": {
        "id": "j6u7s3U7rkHv"
      },
      "execution_count": null,
      "outputs": []
    },
    {
      "cell_type": "code",
      "source": [
        "training_df['model'].value_counts()"
      ],
      "metadata": {
        "colab": {
          "base_uri": "https://localhost:8080/"
        },
        "id": "Z7U1vTDftg5q",
        "outputId": "85a17993-c220-4668-8756-4d164c5cdb6e"
      },
      "execution_count": null,
      "outputs": [
        {
          "output_type": "execute_result",
          "data": {
            "text/plain": [
              "octavia     12619\n",
              "superb       3195\n",
              "yaris        3176\n",
              "qashqai      2854\n",
              "x3           2779\n",
              "x1           2420\n",
              "i30          2047\n",
              "q5           2039\n",
              "x5           1979\n",
              "yeti         1898\n",
              "panda        1769\n",
              "q3           1736\n",
              "coupe        1710\n",
              "micra        1676\n",
              "auris        1666\n",
              "avensis      1512\n",
              "aygo         1486\n",
              "rapid        1409\n",
              "roomster     1322\n",
              "q7           1245\n",
              "citigo       1120\n",
              "juke          955\n",
              "tt            903\n",
              "Name: model, dtype: int64"
            ]
          },
          "metadata": {},
          "execution_count": 21
        }
      ]
    },
    {
      "cell_type": "code",
      "source": [
        "training_df['Location'].value_counts()"
      ],
      "metadata": {
        "colab": {
          "base_uri": "https://localhost:8080/"
        },
        "id": "RvM5X7QH1Ioc",
        "outputId": "b3d0184e-bb8f-43cf-9074-8a5b43189673"
      },
      "execution_count": null,
      "outputs": [
        {
          "output_type": "execute_result",
          "data": {
            "text/plain": [
              "Coimbatore    4976\n",
              "Kochi         4969\n",
              "Bangalore     4878\n",
              "Jaipur        4870\n",
              "Kolkata       4868\n",
              "Pune          4862\n",
              "Mumbai        4860\n",
              "Chennai       4834\n",
              "Delhi         4824\n",
              "Hyderabad     4804\n",
              "Ahmedabad     4770\n",
              "Name: Location, dtype: int64"
            ]
          },
          "metadata": {},
          "execution_count": 22
        }
      ]
    },
    {
      "cell_type": "code",
      "source": [
        "training_df['Owner Type'].value_counts()"
      ],
      "metadata": {
        "colab": {
          "base_uri": "https://localhost:8080/"
        },
        "id": "H7zNHv-w1m4F",
        "outputId": "acb24a99-f1a5-433e-deda-17ddf191747c"
      },
      "execution_count": null,
      "outputs": [
        {
          "output_type": "execute_result",
          "data": {
            "text/plain": [
              "First             13406\n",
              "Third             13395\n",
              "Second            13365\n",
              "Fourth & Above    13349\n",
              "Name: Owner Type, dtype: int64"
            ]
          },
          "metadata": {},
          "execution_count": 23
        }
      ]
    },
    {
      "cell_type": "code",
      "source": [
        "training_df['transmission'].value_counts()"
      ],
      "metadata": {
        "colab": {
          "base_uri": "https://localhost:8080/"
        },
        "id": "C1clZIdT15Kp",
        "outputId": "72ebafeb-2b62-4b00-bb16-64216ef228b4"
      },
      "execution_count": null,
      "outputs": [
        {
          "output_type": "execute_result",
          "data": {
            "text/plain": [
              "man     36734\n",
              "auto    16743\n",
              "Name: transmission, dtype: int64"
            ]
          },
          "metadata": {},
          "execution_count": 28
        }
      ]
    },
    {
      "cell_type": "code",
      "source": [
        "training_df['door_count'].value_counts()"
      ],
      "metadata": {
        "colab": {
          "base_uri": "https://localhost:8080/"
        },
        "id": "h0iSHQWx2HdX",
        "outputId": "e18a1a55-beb5-4ef8-af2f-50a81ba7a077"
      },
      "execution_count": null,
      "outputs": [
        {
          "output_type": "execute_result",
          "data": {
            "text/plain": [
              "4       33808\n",
              "5        7630\n",
              "None     7534\n",
              "2        4310\n",
              "3         185\n",
              "6           8\n",
              "1           2\n",
              "Name: door_count, dtype: int64"
            ]
          },
          "metadata": {},
          "execution_count": 29
        }
      ]
    },
    {
      "cell_type": "code",
      "source": [
        "training_df['seat_count'].value_counts()"
      ],
      "metadata": {
        "colab": {
          "base_uri": "https://localhost:8080/"
        },
        "id": "xh4ioWAT2QLH",
        "outputId": "a2f5295c-5e34-40c5-8f90-0994afc87beb"
      },
      "execution_count": null,
      "outputs": [
        {
          "output_type": "execute_result",
          "data": {
            "text/plain": [
              "5       38824\n",
              "None     8511\n",
              "4        4467\n",
              "7         852\n",
              "2         725\n",
              "3         109\n",
              "6          23\n",
              "9           2\n",
              "1           1\n",
              "8           1\n",
              "Name: seat_count, dtype: int64"
            ]
          },
          "metadata": {},
          "execution_count": 24
        }
      ]
    },
    {
      "cell_type": "code",
      "source": [
        "training_df['fuel_type'].value_counts()"
      ],
      "metadata": {
        "colab": {
          "base_uri": "https://localhost:8080/"
        },
        "id": "Hn5z0mXE2UEh",
        "outputId": "19a94423-1ddf-48c3-84a6-d7285487d4b6"
      },
      "execution_count": null,
      "outputs": [
        {
          "output_type": "execute_result",
          "data": {
            "text/plain": [
              "diesel    27559\n",
              "petrol    25956\n",
              "Name: fuel_type, dtype: int64"
            ]
          },
          "metadata": {},
          "execution_count": 25
        }
      ]
    },
    {
      "cell_type": "code",
      "source": [
        "training_df.isnull().sum()"
      ],
      "metadata": {
        "colab": {
          "base_uri": "https://localhost:8080/"
        },
        "id": "HXv8CsE47AFn",
        "outputId": "fba85996-a7fb-4d1e-eec8-44bd10aec460"
      },
      "execution_count": null,
      "outputs": [
        {
          "output_type": "execute_result",
          "data": {
            "text/plain": [
              "Maker                  0\n",
              "model                  0\n",
              "Location               0\n",
              "Distance               0\n",
              "Owner Type             0\n",
              "manufacture_year       0\n",
              "Age of car             0\n",
              "engine_displacement    0\n",
              "engine_power           0\n",
              "Vroom Audit Rating     0\n",
              "transmission           0\n",
              "door_count             0\n",
              "seat_count             0\n",
              "fuel_type              0\n",
              "Price                  0\n",
              "dtype: int64"
            ]
          },
          "metadata": {},
          "execution_count": 26
        }
      ]
    },
    {
      "cell_type": "code",
      "source": [
        "testing_df.info()"
      ],
      "metadata": {
        "colab": {
          "base_uri": "https://localhost:8080/"
        },
        "id": "nEIRg23SVttN",
        "outputId": "592b1947-9aa8-4a15-a2cd-b5b30a9b9ff2"
      },
      "execution_count": null,
      "outputs": [
        {
          "output_type": "stream",
          "name": "stdout",
          "text": [
            "<class 'pandas.core.frame.DataFrame'>\n",
            "RangeIndex: 5615 entries, 0 to 5614\n",
            "Data columns (total 14 columns):\n",
            " #   Column               Non-Null Count  Dtype  \n",
            "---  ------               --------------  -----  \n",
            " 0   Maker                5615 non-null   object \n",
            " 1   model                5615 non-null   object \n",
            " 2   Location             5615 non-null   object \n",
            " 3   Distance             5615 non-null   float64\n",
            " 4   Owner Type           5615 non-null   object \n",
            " 5   manufacture_year     5615 non-null   int64  \n",
            " 6   Age of car           5615 non-null   int64  \n",
            " 7   engine_displacement  5615 non-null   int64  \n",
            " 8   engine_power         5615 non-null   float64\n",
            " 9   Vroom Audit Rating   5615 non-null   int64  \n",
            " 10  transmission         5615 non-null   object \n",
            " 11  door_count           5615 non-null   object \n",
            " 12  seat_count           5615 non-null   object \n",
            " 13  fuel_type            5615 non-null   object \n",
            "dtypes: float64(2), int64(4), object(8)\n",
            "memory usage: 614.3+ KB\n"
          ]
        }
      ]
    },
    {
      "cell_type": "markdown",
      "source": [
        "# Exploratory Data Analysis"
      ],
      "metadata": {
        "id": "YMof7Ugz64C1"
      }
    },
    {
      "cell_type": "code",
      "source": [
        "#Heat map\n",
        "plt.figure(figsize=(10,7))\n",
        "sns.heatmap(training_df.corr(), annot=True,linewidths=.5,fmt='.2f')\n",
        "plt.title(\"Correlation Graph\",size=18)"
      ],
      "metadata": {
        "colab": {
          "base_uri": "https://localhost:8080/",
          "height": 777
        },
        "id": "TY49aqie7RCk",
        "outputId": "95299f7b-2509-41ee-dd24-d2ff67062f82"
      },
      "execution_count": null,
      "outputs": [
        {
          "output_type": "execute_result",
          "data": {
            "text/plain": [
              "Text(0.5, 1.0, 'Correlation Graph')"
            ]
          },
          "metadata": {},
          "execution_count": 28
        },
        {
          "output_type": "display_data",
          "data": {
            "text/plain": [
              "<Figure size 1000x700 with 2 Axes>"
            ],
            "image/png": "[encoded data removed]"
          },
          "metadata": {}
        }
      ]
    },
    {
      "cell_type": "markdown",
      "source": [
        "# Feature Engineering "
      ],
      "metadata": {
        "id": "xhQhRlnpAMkp"
      }
    },
    {
      "cell_type": "code",
      "source": [
        "training_df.info()"
      ],
      "metadata": {
        "colab": {
          "base_uri": "https://localhost:8080/"
        },
        "id": "IcRAtx0fAw6o",
        "outputId": "89660a45-758f-49df-801d-542af4c3f232"
      },
      "execution_count": null,
      "outputs": [
        {
          "output_type": "stream",
          "name": "stdout",
          "text": [
            "<class 'pandas.core.frame.DataFrame'>\n",
            "RangeIndex: 53515 entries, 0 to 53514\n",
            "Data columns (total 15 columns):\n",
            " #   Column               Non-Null Count  Dtype  \n",
            "---  ------               --------------  -----  \n",
            " 0   Maker                53515 non-null  object \n",
            " 1   model                53515 non-null  object \n",
            " 2   Location             53515 non-null  object \n",
            " 3   Distance             53515 non-null  float64\n",
            " 4   Owner Type           53515 non-null  object \n",
            " 5   manufacture_year     53515 non-null  int64  \n",
            " 6   Age of car           53515 non-null  int64  \n",
            " 7   engine_displacement  53515 non-null  int64  \n",
            " 8   engine_power         53515 non-null  float64\n",
            " 9   Vroom Audit Rating   53515 non-null  int64  \n",
            " 10  transmission         53515 non-null  object \n",
            " 11  door_count           53515 non-null  object \n",
            " 12  seat_count           53515 non-null  object \n",
            " 13  fuel_type            53515 non-null  object \n",
            " 14  Price                53515 non-null  float64\n",
            "dtypes: float64(3), int64(4), object(8)\n",
            "memory usage: 6.1+ MB\n"
          ]
        }
      ]
    },
    {
      "cell_type": "code",
      "source": [
        "from sklearn.preprocessing import LabelEncoder\n",
        "label=LabelEncoder()\n",
        "label_lst = ['Maker','model','Location', 'Owner Type','transmission','fuel_type']\n",
        "for col in label_lst : \n",
        "    training_df[col] = label.fit_transform(training_df[col])"
      ],
      "metadata": {
        "id": "NWPyuyTwAUSz"
      },
      "execution_count": null,
      "outputs": []
    },
    {
      "cell_type": "code",
      "source": [
        "training_df.info()"
      ],
      "metadata": {
        "colab": {
          "base_uri": "https://localhost:8080/"
        },
        "id": "bmcmlv74BHWp",
        "outputId": "ddad417f-84e5-4711-97aa-48e19088f6ec"
      },
      "execution_count": null,
      "outputs": [
        {
          "output_type": "stream",
          "name": "stdout",
          "text": [
            "<class 'pandas.core.frame.DataFrame'>\n",
            "RangeIndex: 53515 entries, 0 to 53514\n",
            "Data columns (total 15 columns):\n",
            " #   Column               Non-Null Count  Dtype  \n",
            "---  ------               --------------  -----  \n",
            " 0   Maker                53515 non-null  int64  \n",
            " 1   model                53515 non-null  int64  \n",
            " 2   Location             53515 non-null  int64  \n",
            " 3   Distance             53515 non-null  float64\n",
            " 4   Owner Type           53515 non-null  int64  \n",
            " 5   manufacture_year     53515 non-null  int64  \n",
            " 6   Age of car           53515 non-null  int64  \n",
            " 7   engine_displacement  53515 non-null  int64  \n",
            " 8   engine_power         53515 non-null  float64\n",
            " 9   Vroom Audit Rating   53515 non-null  int64  \n",
            " 10  transmission         53515 non-null  int64  \n",
            " 11  door_count           53515 non-null  object \n",
            " 12  seat_count           53515 non-null  object \n",
            " 13  fuel_type            53515 non-null  int64  \n",
            " 14  Price                53515 non-null  float64\n",
            "dtypes: float64(3), int64(10), object(2)\n",
            "memory usage: 6.1+ MB\n"
          ]
        }
      ]
    },
    {
      "cell_type": "code",
      "source": [
        "testing_df.info()"
      ],
      "metadata": {
        "colab": {
          "base_uri": "https://localhost:8080/"
        },
        "id": "OGRmXstWWAOA",
        "outputId": "ab29fc2e-60d1-4c47-b00f-f4f4e030c026"
      },
      "execution_count": null,
      "outputs": [
        {
          "output_type": "stream",
          "name": "stdout",
          "text": [
            "<class 'pandas.core.frame.DataFrame'>\n",
            "RangeIndex: 5615 entries, 0 to 5614\n",
            "Data columns (total 14 columns):\n",
            " #   Column               Non-Null Count  Dtype  \n",
            "---  ------               --------------  -----  \n",
            " 0   Maker                5615 non-null   object \n",
            " 1   model                5615 non-null   object \n",
            " 2   Location             5615 non-null   object \n",
            " 3   Distance             5615 non-null   float64\n",
            " 4   Owner Type           5615 non-null   object \n",
            " 5   manufacture_year     5615 non-null   int64  \n",
            " 6   Age of car           5615 non-null   int64  \n",
            " 7   engine_displacement  5615 non-null   int64  \n",
            " 8   engine_power         5615 non-null   float64\n",
            " 9   Vroom Audit Rating   5615 non-null   int64  \n",
            " 10  transmission         5615 non-null   object \n",
            " 11  door_count           5615 non-null   object \n",
            " 12  seat_count           5615 non-null   object \n",
            " 13  fuel_type            5615 non-null   object \n",
            "dtypes: float64(2), int64(4), object(8)\n",
            "memory usage: 614.3+ KB\n"
          ]
        }
      ]
    },
    {
      "cell_type": "code",
      "source": [
        "\n",
        "for col in label_lst : \n",
        "    testing_df[col] = label.fit_transform(testing_df[col])"
      ],
      "metadata": {
        "id": "r4aknmgX4Bjr"
      },
      "execution_count": null,
      "outputs": []
    },
    {
      "cell_type": "code",
      "source": [
        "testing_df.info()"
      ],
      "metadata": {
        "colab": {
          "base_uri": "https://localhost:8080/"
        },
        "id": "F6idXjUq4HDM",
        "outputId": "64b33540-2a42-458a-ff49-24d6b14a60fe"
      },
      "execution_count": null,
      "outputs": [
        {
          "output_type": "stream",
          "name": "stdout",
          "text": [
            "<class 'pandas.core.frame.DataFrame'>\n",
            "RangeIndex: 5615 entries, 0 to 5614\n",
            "Data columns (total 14 columns):\n",
            " #   Column               Non-Null Count  Dtype  \n",
            "---  ------               --------------  -----  \n",
            " 0   Maker                5615 non-null   int64  \n",
            " 1   model                5615 non-null   int64  \n",
            " 2   Location             5615 non-null   int64  \n",
            " 3   Distance             5615 non-null   float64\n",
            " 4   Owner Type           5615 non-null   int64  \n",
            " 5   manufacture_year     5615 non-null   int64  \n",
            " 6   Age of car           5615 non-null   int64  \n",
            " 7   engine_displacement  5615 non-null   int64  \n",
            " 8   engine_power         5615 non-null   float64\n",
            " 9   Vroom Audit Rating   5615 non-null   int64  \n",
            " 10  transmission         5615 non-null   int64  \n",
            " 11  door_count           5615 non-null   object \n",
            " 12  seat_count           5615 non-null   object \n",
            " 13  fuel_type            5615 non-null   int64  \n",
            "dtypes: float64(2), int64(10), object(2)\n",
            "memory usage: 614.3+ KB\n"
          ]
        }
      ]
    },
    {
      "cell_type": "code",
      "source": [
        "category_column = ['door_count','seat_count']  # replace with the name of the categorical column\n",
        "category_dict={'None':0,'1':1,'2':2,\n",
        "              '3':3,'4':4,'5':5,'6':6,'7':7,'8':8,'9':9}\n",
        "\n",
        "for col in category_column :\n",
        "  training_df[col] = training_df[col].map(category_dict)\n"
      ],
      "metadata": {
        "id": "J1mVLGeDCdY7"
      },
      "execution_count": null,
      "outputs": []
    },
    {
      "cell_type": "code",
      "source": [
        "training_df.head()"
      ],
      "metadata": {
        "colab": {
          "base_uri": "https://localhost:8080/",
          "height": 305
        },
        "id": "CbAvtxAQB1R0",
        "outputId": "9ca2caf3-680b-4cda-9931-cc37914e662e"
      },
      "execution_count": null,
      "outputs": [
        {
          "output_type": "execute_result",
          "data": {
            "text/plain": [
              "   Maker  model  Location     Distance   Owner Type  manufacture_year  \\\n",
              "0      6      8         0  94546.262446           2              1964   \n",
              "1      2      9         0  27750.000000           3              2012   \n",
              "2      1     18         5  46000.000000           3              2014   \n",
              "3      5      6         9  43949.000000           3              2011   \n",
              "4      1     20         6  59524.000000           1              2012   \n",
              "\n",
              "   Age of car  engine_displacement  engine_power  Vroom Audit Rating  \\\n",
              "0          55                 1964         147.0                   8   \n",
              "1           7                 1242          51.0                   6   \n",
              "2           5                 1995         105.0                   7   \n",
              "3           8                 1618         140.0                   7   \n",
              "4           7                 2993         180.0                   7   \n",
              "\n",
              "   transmission  door_count  seat_count  fuel_type       Price  \n",
              "0             1           0           0          1   543764.25  \n",
              "1             1           4           4          1   401819.25  \n",
              "2             0           4           5          0  2392855.50  \n",
              "3             1           4           5          1   958606.50  \n",
              "4             0           4           5          0  3085561.50  "
            ],
            "text/html": [
              "\n",
              "  <div id=\"df-9111ed89-fe40-42ec-a155-74280d7a6f43\">\n",
              "    <div class=\"colab-df-container\">\n",
              "      <div>\n",
              "<style scoped>\n",
              "    .dataframe tbody tr th:only-of-type {\n",
              "        vertical-align: middle;\n",
              "    }\n",
              "\n",
              "    .dataframe tbody tr th {\n",
              "        vertical-align: top;\n",
              "    }\n",
              "\n",
              "    .dataframe thead th {\n",
              "        text-align: right;\n",
              "    }\n",
              "</style>\n",
              "<table border=\"1\" class=\"dataframe\">\n",
              "  <thead>\n",
              "    <tr style=\"text-align: right;\">\n",
              "      <th></th>\n",
              "      <th>Maker</th>\n",
              "      <th>model</th>\n",
              "      <th>Location</th>\n",
              "      <th>Distance</th>\n",
              "      <th>Owner Type</th>\n",
              "      <th>manufacture_year</th>\n",
              "      <th>Age of car</th>\n",
              "      <th>engine_displacement</th>\n",
              "      <th>engine_power</th>\n",
              "      <th>Vroom Audit Rating</th>\n",
              "      <th>transmission</th>\n",
              "      <th>door_count</th>\n",
              "      <th>seat_count</th>\n",
              "      <th>fuel_type</th>\n",
              "      <th>Price</th>\n",
              "    </tr>\n",
              "  </thead>\n",
              "  <tbody>\n",
              "    <tr>\n",
              "      <th>0</th>\n",
              "      <td>6</td>\n",
              "      <td>8</td>\n",
              "      <td>0</td>\n",
              "      <td>94546.262446</td>\n",
              "      <td>2</td>\n",
              "      <td>1964</td>\n",
              "      <td>55</td>\n",
              "      <td>1964</td>\n",
              "      <td>147.0</td>\n",
              "      <td>8</td>\n",
              "      <td>1</td>\n",
              "      <td>0</td>\n",
              "      <td>0</td>\n",
              "      <td>1</td>\n",
              "      <td>543764.25</td>\n",
              "    </tr>\n",
              "    <tr>\n",
              "      <th>1</th>\n",
              "      <td>2</td>\n",
              "      <td>9</td>\n",
              "      <td>0</td>\n",
              "      <td>27750.000000</td>\n",
              "      <td>3</td>\n",
              "      <td>2012</td>\n",
              "      <td>7</td>\n",
              "      <td>1242</td>\n",
              "      <td>51.0</td>\n",
              "      <td>6</td>\n",
              "      <td>1</td>\n",
              "      <td>4</td>\n",
              "      <td>4</td>\n",
              "      <td>1</td>\n",
              "      <td>401819.25</td>\n",
              "    </tr>\n",
              "    <tr>\n",
              "      <th>2</th>\n",
              "      <td>1</td>\n",
              "      <td>18</td>\n",
              "      <td>5</td>\n",
              "      <td>46000.000000</td>\n",
              "      <td>3</td>\n",
              "      <td>2014</td>\n",
              "      <td>5</td>\n",
              "      <td>1995</td>\n",
              "      <td>105.0</td>\n",
              "      <td>7</td>\n",
              "      <td>0</td>\n",
              "      <td>4</td>\n",
              "      <td>5</td>\n",
              "      <td>0</td>\n",
              "      <td>2392855.50</td>\n",
              "    </tr>\n",
              "    <tr>\n",
              "      <th>3</th>\n",
              "      <td>5</td>\n",
              "      <td>6</td>\n",
              "      <td>9</td>\n",
              "      <td>43949.000000</td>\n",
              "      <td>3</td>\n",
              "      <td>2011</td>\n",
              "      <td>8</td>\n",
              "      <td>1618</td>\n",
              "      <td>140.0</td>\n",
              "      <td>7</td>\n",
              "      <td>1</td>\n",
              "      <td>4</td>\n",
              "      <td>5</td>\n",
              "      <td>1</td>\n",
              "      <td>958606.50</td>\n",
              "    </tr>\n",
              "    <tr>\n",
              "      <th>4</th>\n",
              "      <td>1</td>\n",
              "      <td>20</td>\n",
              "      <td>6</td>\n",
              "      <td>59524.000000</td>\n",
              "      <td>1</td>\n",
              "      <td>2012</td>\n",
              "      <td>7</td>\n",
              "      <td>2993</td>\n",
              "      <td>180.0</td>\n",
              "      <td>7</td>\n",
              "      <td>0</td>\n",
              "      <td>4</td>\n",
              "      <td>5</td>\n",
              "      <td>0</td>\n",
              "      <td>3085561.50</td>\n",
              "    </tr>\n",
              "  </tbody>\n",
              "</table>\n",
              "</div>\n",
              "      <button class=\"colab-df-convert\" onclick=\"convertToInteractive('df-9111ed89-fe40-42ec-a155-74280d7a6f43')\"\n",
              "              title=\"Convert this dataframe to an interactive table.\"\n",
              "              style=\"display:none;\">\n",
              "        \n",
              "  <svg xmlns=\"http://www.w3.org/2000/svg\" height=\"24px\"viewBox=\"0 0 24 24\"\n",
              "       width=\"24px\">\n",
              "    <path d=\"M0 0h24v24H0V0z\" fill=\"none\"/>\n",
              "    <path d=\"M18.56 5.44l.94 2.06.94-2.06 2.06-.94-2.06-.94-.94-2.06-.94 2.06-2.06.94zm-11 1L8.5 8.5l.94-2.06 2.06-.94-2.06-.94L8.5 2.5l-.94 2.06-2.06.94zm10 10l.94 2.06.94-2.06 2.06-.94-2.06-.94-.94-2.06-.94 2.06-2.06.94z\"/><path d=\"M17.41 7.96l-1.37-1.37c-.4-.4-.92-.59-1.43-.59-.52 0-1.04.2-1.43.59L10.3 9.45l-7.72 7.72c-.78.78-.78 2.05 0 2.83L4 21.41c.39.39.9.59 1.41.59.51 0 1.02-.2 1.41-.59l7.78-7.78 2.81-2.81c.8-.78.8-2.07 0-2.86zM5.41 20L4 18.59l7.72-7.72 1.47 1.35L5.41 20z\"/>\n",
              "  </svg>\n",
              "      </button>\n",
              "      \n",
              "  <style>\n",
              "    .colab-df-container {\n",
              "      display:flex;\n",
              "      flex-wrap:wrap;\n",
              "      gap: 12px;\n",
              "    }\n",
              "\n",
              "    .colab-df-convert {\n",
              "      background-color: #E8F0FE;\n",
              "      border: none;\n",
              "      border-radius: 50%;\n",
              "      cursor: pointer;\n",
              "      display: none;\n",
              "      fill: #1967D2;\n",
              "      height: 32px;\n",
              "      padding: 0 0 0 0;\n",
              "      width: 32px;\n",
              "    }\n",
              "\n",
              "    .colab-df-convert:hover {\n",
              "      background-color: #E2EBFA;\n",
              "      box-shadow: 0px 1px 2px rgba(60, 64, 67, 0.3), 0px 1px 3px 1px rgba(60, 64, 67, 0.15);\n",
              "      fill: #174EA6;\n",
              "    }\n",
              "\n",
              "    [theme=dark] .colab-df-convert {\n",
              "      background-color: #3B4455;\n",
              "      fill: #D2E3FC;\n",
              "    }\n",
              "\n",
              "    [theme=dark] .colab-df-convert:hover {\n",
              "      background-color: #434B5C;\n",
              "      box-shadow: 0px 1px 3px 1px rgba(0, 0, 0, 0.15);\n",
              "      filter: drop-shadow(0px 1px 2px rgba(0, 0, 0, 0.3));\n",
              "      fill: #FFFFFF;\n",
              "    }\n",
              "  </style>\n",
              "\n",
              "      <script>\n",
              "        const buttonEl =\n",
              "          document.querySelector('#df-9111ed89-fe40-42ec-a155-74280d7a6f43 button.colab-df-convert');\n",
              "        buttonEl.style.display =\n",
              "          google.colab.kernel.accessAllowed ? 'block' : 'none';\n",
              "\n",
              "        async function convertToInteractive(key) {\n",
              "          const element = document.querySelector('#df-9111ed89-fe40-42ec-a155-74280d7a6f43');\n",
              "          const dataTable =\n",
              "            await google.colab.kernel.invokeFunction('convertToInteractive',\n",
              "                                                     [key], {});\n",
              "          if (!dataTable) return;\n",
              "\n",
              "          const docLinkHtml = 'Like what you see? Visit the ' +\n",
              "            '<a target=\"_blank\" href=https://colab.research.google.com/notebooks/data_table.ipynb>data table notebook</a>'\n",
              "            + ' to learn more about interactive tables.';\n",
              "          element.innerHTML = '';\n",
              "          dataTable['output_type'] = 'display_data';\n",
              "          await google.colab.output.renderOutput(dataTable, element);\n",
              "          const docLink = document.createElement('div');\n",
              "          docLink.innerHTML = docLinkHtml;\n",
              "          element.appendChild(docLink);\n",
              "        }\n",
              "      </script>\n",
              "    </div>\n",
              "  </div>\n",
              "  "
            ]
          },
          "metadata": {},
          "execution_count": 38
        }
      ]
    },
    {
      "cell_type": "code",
      "source": [
        "for col in category_column :\n",
        "  testing_df[col] = testing_df[col].map(category_dict)\n"
      ],
      "metadata": {
        "id": "qmUcXMzN4ew9"
      },
      "execution_count": null,
      "outputs": []
    },
    {
      "cell_type": "code",
      "source": [
        "testing_df.head()"
      ],
      "metadata": {
        "colab": {
          "base_uri": "https://localhost:8080/",
          "height": 305
        },
        "id": "ooAQgkF2WOy1",
        "outputId": "a181fdb0-0a7f-483a-8a22-47ab4bd42045"
      },
      "execution_count": null,
      "outputs": [
        {
          "output_type": "execute_result",
          "data": {
            "text/plain": [
              "   Maker  model  Location  Distance   Owner Type  manufacture_year  \\\n",
              "0      6      8         9   150000.0           0              2007   \n",
              "1      6     14         3    29376.0           3              2014   \n",
              "2      6      8         3    30563.0           2              2014   \n",
              "3      0     10         4     8650.0           1              2015   \n",
              "4      0     17         2     6400.0           3              2015   \n",
              "\n",
              "   Age of car  engine_displacement  engine_power  Vroom Audit Rating  \\\n",
              "0          12                 1595          75.0                   5   \n",
              "1           5                 1598          77.0                   4   \n",
              "2           5                 1968         110.0                   5   \n",
              "3           4                 1968         110.0                   8   \n",
              "4           4                 1984         169.0                   4   \n",
              "\n",
              "   transmission  door_count  seat_count  fuel_type  \n",
              "0             1           4           5          1  \n",
              "1             1           4           5          0  \n",
              "2             1           5           5          0  \n",
              "3             0           4           5          0  \n",
              "4             0           2           0          1  "
            ],
            "text/html": [
              "\n",
              "  <div id=\"df-908cdfb8-8e85-42b3-b91f-b1343f9648cc\">\n",
              "    <div class=\"colab-df-container\">\n",
              "      <div>\n",
              "<style scoped>\n",
              "    .dataframe tbody tr th:only-of-type {\n",
              "        vertical-align: middle;\n",
              "    }\n",
              "\n",
              "    .dataframe tbody tr th {\n",
              "        vertical-align: top;\n",
              "    }\n",
              "\n",
              "    .dataframe thead th {\n",
              "        text-align: right;\n",
              "    }\n",
              "</style>\n",
              "<table border=\"1\" class=\"dataframe\">\n",
              "  <thead>\n",
              "    <tr style=\"text-align: right;\">\n",
              "      <th></th>\n",
              "      <th>Maker</th>\n",
              "      <th>model</th>\n",
              "      <th>Location</th>\n",
              "      <th>Distance</th>\n",
              "      <th>Owner Type</th>\n",
              "      <th>manufacture_year</th>\n",
              "      <th>Age of car</th>\n",
              "      <th>engine_displacement</th>\n",
              "      <th>engine_power</th>\n",
              "      <th>Vroom Audit Rating</th>\n",
              "      <th>transmission</th>\n",
              "      <th>door_count</th>\n",
              "      <th>seat_count</th>\n",
              "      <th>fuel_type</th>\n",
              "    </tr>\n",
              "  </thead>\n",
              "  <tbody>\n",
              "    <tr>\n",
              "      <th>0</th>\n",
              "      <td>6</td>\n",
              "      <td>8</td>\n",
              "      <td>9</td>\n",
              "      <td>150000.0</td>\n",
              "      <td>0</td>\n",
              "      <td>2007</td>\n",
              "      <td>12</td>\n",
              "      <td>1595</td>\n",
              "      <td>75.0</td>\n",
              "      <td>5</td>\n",
              "      <td>1</td>\n",
              "      <td>4</td>\n",
              "      <td>5</td>\n",
              "      <td>1</td>\n",
              "    </tr>\n",
              "    <tr>\n",
              "      <th>1</th>\n",
              "      <td>6</td>\n",
              "      <td>14</td>\n",
              "      <td>3</td>\n",
              "      <td>29376.0</td>\n",
              "      <td>3</td>\n",
              "      <td>2014</td>\n",
              "      <td>5</td>\n",
              "      <td>1598</td>\n",
              "      <td>77.0</td>\n",
              "      <td>4</td>\n",
              "      <td>1</td>\n",
              "      <td>4</td>\n",
              "      <td>5</td>\n",
              "      <td>0</td>\n",
              "    </tr>\n",
              "    <tr>\n",
              "      <th>2</th>\n",
              "      <td>6</td>\n",
              "      <td>8</td>\n",
              "      <td>3</td>\n",
              "      <td>30563.0</td>\n",
              "      <td>2</td>\n",
              "      <td>2014</td>\n",
              "      <td>5</td>\n",
              "      <td>1968</td>\n",
              "      <td>110.0</td>\n",
              "      <td>5</td>\n",
              "      <td>1</td>\n",
              "      <td>5</td>\n",
              "      <td>5</td>\n",
              "      <td>0</td>\n",
              "    </tr>\n",
              "    <tr>\n",
              "      <th>3</th>\n",
              "      <td>0</td>\n",
              "      <td>10</td>\n",
              "      <td>4</td>\n",
              "      <td>8650.0</td>\n",
              "      <td>1</td>\n",
              "      <td>2015</td>\n",
              "      <td>4</td>\n",
              "      <td>1968</td>\n",
              "      <td>110.0</td>\n",
              "      <td>8</td>\n",
              "      <td>0</td>\n",
              "      <td>4</td>\n",
              "      <td>5</td>\n",
              "      <td>0</td>\n",
              "    </tr>\n",
              "    <tr>\n",
              "      <th>4</th>\n",
              "      <td>0</td>\n",
              "      <td>17</td>\n",
              "      <td>2</td>\n",
              "      <td>6400.0</td>\n",
              "      <td>3</td>\n",
              "      <td>2015</td>\n",
              "      <td>4</td>\n",
              "      <td>1984</td>\n",
              "      <td>169.0</td>\n",
              "      <td>4</td>\n",
              "      <td>0</td>\n",
              "      <td>2</td>\n",
              "      <td>0</td>\n",
              "      <td>1</td>\n",
              "    </tr>\n",
              "  </tbody>\n",
              "</table>\n",
              "</div>\n",
              "      <button class=\"colab-df-convert\" onclick=\"convertToInteractive('df-908cdfb8-8e85-42b3-b91f-b1343f9648cc')\"\n",
              "              title=\"Convert this dataframe to an interactive table.\"\n",
              "              style=\"display:none;\">\n",
              "        \n",
              "  <svg xmlns=\"http://www.w3.org/2000/svg\" height=\"24px\"viewBox=\"0 0 24 24\"\n",
              "       width=\"24px\">\n",
              "    <path d=\"M0 0h24v24H0V0z\" fill=\"none\"/>\n",
              "    <path d=\"M18.56 5.44l.94 2.06.94-2.06 2.06-.94-2.06-.94-.94-2.06-.94 2.06-2.06.94zm-11 1L8.5 8.5l.94-2.06 2.06-.94-2.06-.94L8.5 2.5l-.94 2.06-2.06.94zm10 10l.94 2.06.94-2.06 2.06-.94-2.06-.94-.94-2.06-.94 2.06-2.06.94z\"/><path d=\"M17.41 7.96l-1.37-1.37c-.4-.4-.92-.59-1.43-.59-.52 0-1.04.2-1.43.59L10.3 9.45l-7.72 7.72c-.78.78-.78 2.05 0 2.83L4 21.41c.39.39.9.59 1.41.59.51 0 1.02-.2 1.41-.59l7.78-7.78 2.81-2.81c.8-.78.8-2.07 0-2.86zM5.41 20L4 18.59l7.72-7.72 1.47 1.35L5.41 20z\"/>\n",
              "  </svg>\n",
              "      </button>\n",
              "      \n",
              "  <style>\n",
              "    .colab-df-container {\n",
              "      display:flex;\n",
              "      flex-wrap:wrap;\n",
              "      gap: 12px;\n",
              "    }\n",
              "\n",
              "    .colab-df-convert {\n",
              "      background-color: #E8F0FE;\n",
              "      border: none;\n",
              "      border-radius: 50%;\n",
              "      cursor: pointer;\n",
              "      display: none;\n",
              "      fill: #1967D2;\n",
              "      height: 32px;\n",
              "      padding: 0 0 0 0;\n",
              "      width: 32px;\n",
              "    }\n",
              "\n",
              "    .colab-df-convert:hover {\n",
              "      background-color: #E2EBFA;\n",
              "      box-shadow: 0px 1px 2px rgba(60, 64, 67, 0.3), 0px 1px 3px 1px rgba(60, 64, 67, 0.15);\n",
              "      fill: #174EA6;\n",
              "    }\n",
              "\n",
              "    [theme=dark] .colab-df-convert {\n",
              "      background-color: #3B4455;\n",
              "      fill: #D2E3FC;\n",
              "    }\n",
              "\n",
              "    [theme=dark] .colab-df-convert:hover {\n",
              "      background-color: #434B5C;\n",
              "      box-shadow: 0px 1px 3px 1px rgba(0, 0, 0, 0.15);\n",
              "      filter: drop-shadow(0px 1px 2px rgba(0, 0, 0, 0.3));\n",
              "      fill: #FFFFFF;\n",
              "    }\n",
              "  </style>\n",
              "\n",
              "      <script>\n",
              "        const buttonEl =\n",
              "          document.querySelector('#df-908cdfb8-8e85-42b3-b91f-b1343f9648cc button.colab-df-convert');\n",
              "        buttonEl.style.display =\n",
              "          google.colab.kernel.accessAllowed ? 'block' : 'none';\n",
              "\n",
              "        async function convertToInteractive(key) {\n",
              "          const element = document.querySelector('#df-908cdfb8-8e85-42b3-b91f-b1343f9648cc');\n",
              "          const dataTable =\n",
              "            await google.colab.kernel.invokeFunction('convertToInteractive',\n",
              "                                                     [key], {});\n",
              "          if (!dataTable) return;\n",
              "\n",
              "          const docLinkHtml = 'Like what you see? Visit the ' +\n",
              "            '<a target=\"_blank\" href=https://colab.research.google.com/notebooks/data_table.ipynb>data table notebook</a>'\n",
              "            + ' to learn more about interactive tables.';\n",
              "          element.innerHTML = '';\n",
              "          dataTable['output_type'] = 'display_data';\n",
              "          await google.colab.output.renderOutput(dataTable, element);\n",
              "          const docLink = document.createElement('div');\n",
              "          docLink.innerHTML = docLinkHtml;\n",
              "          element.appendChild(docLink);\n",
              "        }\n",
              "      </script>\n",
              "    </div>\n",
              "  </div>\n",
              "  "
            ]
          },
          "metadata": {},
          "execution_count": 40
        }
      ]
    },
    {
      "cell_type": "markdown",
      "source": [
        "# TRAIN THE MODEL"
      ],
      "metadata": {
        "id": "ff-VbdwVD0Eg"
      }
    },
    {
      "cell_type": "code",
      "source": [
        "y=training_df['Price']\n",
        "training_df.drop(['Price'],axis=1,inplace=True)"
      ],
      "metadata": {
        "id": "ebDcaKVcEyEn"
      },
      "execution_count": null,
      "outputs": []
    },
    {
      "cell_type": "code",
      "source": [
        "from sklearn.model_selection import train_test_split\n",
        "# split into train test sets\n",
        "X_train, X_test, y_train, y_test = train_test_split(training_df, y, test_size=0.3,random_state=42)"
      ],
      "metadata": {
        "id": "PE2_EGlxD4yw"
      },
      "execution_count": null,
      "outputs": []
    },
    {
      "cell_type": "markdown",
      "source": [
        "**LINEAR REGRESSION**"
      ],
      "metadata": {
        "id": "W53y45BdFggA"
      }
    },
    {
      "cell_type": "code",
      "source": [
        "from sklearn.linear_model import LinearRegression\n",
        "from sklearn.ensemble import RandomForestRegressor\n",
        "from sklearn.ensemble import GradientBoostingRegressor\n",
        "from sklearn.tree import DecisionTreeRegressor\n",
        "from sklearn.ensemble import AdaBoostRegressor\n",
        "import joblib\n",
        "\n",
        "lr = LinearRegression()\n",
        "rfr = RandomForestRegressor(n_estimators=100)\n",
        "gbr = GradientBoostingRegressor()\n",
        "dtr = DecisionTreeRegressor()\n",
        "abr = DecisionTreeRegressor()"
      ],
      "metadata": {
        "id": "qY6MnDQ2FXvt"
      },
      "execution_count": null,
      "outputs": []
    },
    {
      "cell_type": "code",
      "source": [
        "from sklearn.metrics import r2_score\n",
        "regression_models = [lr,rfr,gbr,dtr,abr]\n",
        "score_train=[]\n",
        "score_test=[]\n",
        "\n",
        "for model in regression_models : \n",
        "    model.fit(X_train,y_train)\n",
        "    score_train.append(model.score(X_train,y_train))\n",
        "    score_test.append(model.score(X_test,y_test))\n",
        "    \n",
        "    filename = type(model).__name__ + '.pkl'\n",
        "    joblib.dump(model, filename)\n",
        "\n",
        "    "
      ],
      "metadata": {
        "id": "GXf4qPOTF8hR"
      },
      "execution_count": null,
      "outputs": []
    },
    {
      "cell_type": "code",
      "source": [
        "model_names = ['Linear Regression','Random Forest Regressor','Gradient Boosting Regressor','Decision Tree Regressor','AdaBoostRegressor']\n",
        "\n",
        "scores = pd.DataFrame([model_names,score_train,score_test])\n",
        "scores"
      ],
      "metadata": {
        "colab": {
          "base_uri": "https://localhost:8080/",
          "height": 143
        },
        "id": "zpjfQLmLGeM-",
        "outputId": "aa98a53e-b429-4db5-d6d3-3b919fa41003"
      },
      "execution_count": null,
      "outputs": [
        {
          "output_type": "execute_result",
          "data": {
            "text/plain": [
              "                   0                        1                            2  \\\n",
              "0  Linear Regression  Random Forest Regressor  Gradient Boosting Regressor   \n",
              "1           0.688543                 0.987907                     0.909284   \n",
              "2           0.715331                 0.928507                     0.929993   \n",
              "\n",
              "                         3                  4  \n",
              "0  Decision Tree Regressor  AdaBoostRegressor  \n",
              "1                 0.999931           0.999931  \n",
              "2                 0.876628           0.869796  "
            ],
            "text/html": [
              "\n",
              "  <div id=\"df-6106e182-d1d4-4a82-87f1-9543f606bd7c\">\n",
              "    <div class=\"colab-df-container\">\n",
              "      <div>\n",
              "<style scoped>\n",
              "    .dataframe tbody tr th:only-of-type {\n",
              "        vertical-align: middle;\n",
              "    }\n",
              "\n",
              "    .dataframe tbody tr th {\n",
              "        vertical-align: top;\n",
              "    }\n",
              "\n",
              "    .dataframe thead th {\n",
              "        text-align: right;\n",
              "    }\n",
              "</style>\n",
              "<table border=\"1\" class=\"dataframe\">\n",
              "  <thead>\n",
              "    <tr style=\"text-align: right;\">\n",
              "      <th></th>\n",
              "      <th>0</th>\n",
              "      <th>1</th>\n",
              "      <th>2</th>\n",
              "      <th>3</th>\n",
              "      <th>4</th>\n",
              "    </tr>\n",
              "  </thead>\n",
              "  <tbody>\n",
              "    <tr>\n",
              "      <th>0</th>\n",
              "      <td>Linear Regression</td>\n",
              "      <td>Random Forest Regressor</td>\n",
              "      <td>Gradient Boosting Regressor</td>\n",
              "      <td>Decision Tree Regressor</td>\n",
              "      <td>AdaBoostRegressor</td>\n",
              "    </tr>\n",
              "    <tr>\n",
              "      <th>1</th>\n",
              "      <td>0.688543</td>\n",
              "      <td>0.987907</td>\n",
              "      <td>0.909284</td>\n",
              "      <td>0.999931</td>\n",
              "      <td>0.999931</td>\n",
              "    </tr>\n",
              "    <tr>\n",
              "      <th>2</th>\n",
              "      <td>0.715331</td>\n",
              "      <td>0.928507</td>\n",
              "      <td>0.929993</td>\n",
              "      <td>0.876628</td>\n",
              "      <td>0.869796</td>\n",
              "    </tr>\n",
              "  </tbody>\n",
              "</table>\n",
              "</div>\n",
              "      <button class=\"colab-df-convert\" onclick=\"convertToInteractive('df-6106e182-d1d4-4a82-87f1-9543f606bd7c')\"\n",
              "              title=\"Convert this dataframe to an interactive table.\"\n",
              "              style=\"display:none;\">\n",
              "        \n",
              "  <svg xmlns=\"http://www.w3.org/2000/svg\" height=\"24px\"viewBox=\"0 0 24 24\"\n",
              "       width=\"24px\">\n",
              "    <path d=\"M0 0h24v24H0V0z\" fill=\"none\"/>\n",
              "    <path d=\"M18.56 5.44l.94 2.06.94-2.06 2.06-.94-2.06-.94-.94-2.06-.94 2.06-2.06.94zm-11 1L8.5 8.5l.94-2.06 2.06-.94-2.06-.94L8.5 2.5l-.94 2.06-2.06.94zm10 10l.94 2.06.94-2.06 2.06-.94-2.06-.94-.94-2.06-.94 2.06-2.06.94z\"/><path d=\"M17.41 7.96l-1.37-1.37c-.4-.4-.92-.59-1.43-.59-.52 0-1.04.2-1.43.59L10.3 9.45l-7.72 7.72c-.78.78-.78 2.05 0 2.83L4 21.41c.39.39.9.59 1.41.59.51 0 1.02-.2 1.41-.59l7.78-7.78 2.81-2.81c.8-.78.8-2.07 0-2.86zM5.41 20L4 18.59l7.72-7.72 1.47 1.35L5.41 20z\"/>\n",
              "  </svg>\n",
              "      </button>\n",
              "      \n",
              "  <style>\n",
              "    .colab-df-container {\n",
              "      display:flex;\n",
              "      flex-wrap:wrap;\n",
              "      gap: 12px;\n",
              "    }\n",
              "\n",
              "    .colab-df-convert {\n",
              "      background-color: #E8F0FE;\n",
              "      border: none;\n",
              "      border-radius: 50%;\n",
              "      cursor: pointer;\n",
              "      display: none;\n",
              "      fill: #1967D2;\n",
              "      height: 32px;\n",
              "      padding: 0 0 0 0;\n",
              "      width: 32px;\n",
              "    }\n",
              "\n",
              "    .colab-df-convert:hover {\n",
              "      background-color: #E2EBFA;\n",
              "      box-shadow: 0px 1px 2px rgba(60, 64, 67, 0.3), 0px 1px 3px 1px rgba(60, 64, 67, 0.15);\n",
              "      fill: #174EA6;\n",
              "    }\n",
              "\n",
              "    [theme=dark] .colab-df-convert {\n",
              "      background-color: #3B4455;\n",
              "      fill: #D2E3FC;\n",
              "    }\n",
              "\n",
              "    [theme=dark] .colab-df-convert:hover {\n",
              "      background-color: #434B5C;\n",
              "      box-shadow: 0px 1px 3px 1px rgba(0, 0, 0, 0.15);\n",
              "      filter: drop-shadow(0px 1px 2px rgba(0, 0, 0, 0.3));\n",
              "      fill: #FFFFFF;\n",
              "    }\n",
              "  </style>\n",
              "\n",
              "      <script>\n",
              "        const buttonEl =\n",
              "          document.querySelector('#df-6106e182-d1d4-4a82-87f1-9543f606bd7c button.colab-df-convert');\n",
              "        buttonEl.style.display =\n",
              "          google.colab.kernel.accessAllowed ? 'block' : 'none';\n",
              "\n",
              "        async function convertToInteractive(key) {\n",
              "          const element = document.querySelector('#df-6106e182-d1d4-4a82-87f1-9543f606bd7c');\n",
              "          const dataTable =\n",
              "            await google.colab.kernel.invokeFunction('convertToInteractive',\n",
              "                                                     [key], {});\n",
              "          if (!dataTable) return;\n",
              "\n",
              "          const docLinkHtml = 'Like what you see? Visit the ' +\n",
              "            '<a target=\"_blank\" href=https://colab.research.google.com/notebooks/data_table.ipynb>data table notebook</a>'\n",
              "            + ' to learn more about interactive tables.';\n",
              "          element.innerHTML = '';\n",
              "          dataTable['output_type'] = 'display_data';\n",
              "          await google.colab.output.renderOutput(dataTable, element);\n",
              "          const docLink = document.createElement('div');\n",
              "          docLink.innerHTML = docLinkHtml;\n",
              "          element.appendChild(docLink);\n",
              "        }\n",
              "      </script>\n",
              "    </div>\n",
              "  </div>\n",
              "  "
            ]
          },
          "metadata": {},
          "execution_count": 49
        }
      ]
    },
    {
      "cell_type": "code",
      "source": [
        "scores = scores.transpose()\n",
        "scores.columns = [ 'Model','Training Set Accuracy','Testing set Accuracy']\n",
        "scores"
      ],
      "metadata": {
        "colab": {
          "base_uri": "https://localhost:8080/",
          "height": 206
        },
        "id": "lk9yilbpIhyB",
        "outputId": "592e3026-b212-4641-f2e6-b6292d52b670"
      },
      "execution_count": null,
      "outputs": [
        {
          "output_type": "execute_result",
          "data": {
            "text/plain": [
              "                         Model Training Set Accuracy Testing set Accuracy\n",
              "0            Linear Regression              0.688543             0.715331\n",
              "1      Random Forest Regressor              0.987907             0.928507\n",
              "2  Gradient Boosting Regressor              0.909284             0.929993\n",
              "3      Decision Tree Regressor              0.999931             0.876628\n",
              "4            AdaBoostRegressor              0.999931             0.869796"
            ],
            "text/html": [
              "\n",
              "  <div id=\"df-aae00160-9aef-4303-890a-f97387bdb834\">\n",
              "    <div class=\"colab-df-container\">\n",
              "      <div>\n",
              "<style scoped>\n",
              "    .dataframe tbody tr th:only-of-type {\n",
              "        vertical-align: middle;\n",
              "    }\n",
              "\n",
              "    .dataframe tbody tr th {\n",
              "        vertical-align: top;\n",
              "    }\n",
              "\n",
              "    .dataframe thead th {\n",
              "        text-align: right;\n",
              "    }\n",
              "</style>\n",
              "<table border=\"1\" class=\"dataframe\">\n",
              "  <thead>\n",
              "    <tr style=\"text-align: right;\">\n",
              "      <th></th>\n",
              "      <th>Model</th>\n",
              "      <th>Training Set Accuracy</th>\n",
              "      <th>Testing set Accuracy</th>\n",
              "    </tr>\n",
              "  </thead>\n",
              "  <tbody>\n",
              "    <tr>\n",
              "      <th>0</th>\n",
              "      <td>Linear Regression</td>\n",
              "      <td>0.688543</td>\n",
              "      <td>0.715331</td>\n",
              "    </tr>\n",
              "    <tr>\n",
              "      <th>1</th>\n",
              "      <td>Random Forest Regressor</td>\n",
              "      <td>0.987907</td>\n",
              "      <td>0.928507</td>\n",
              "    </tr>\n",
              "    <tr>\n",
              "      <th>2</th>\n",
              "      <td>Gradient Boosting Regressor</td>\n",
              "      <td>0.909284</td>\n",
              "      <td>0.929993</td>\n",
              "    </tr>\n",
              "    <tr>\n",
              "      <th>3</th>\n",
              "      <td>Decision Tree Regressor</td>\n",
              "      <td>0.999931</td>\n",
              "      <td>0.876628</td>\n",
              "    </tr>\n",
              "    <tr>\n",
              "      <th>4</th>\n",
              "      <td>AdaBoostRegressor</td>\n",
              "      <td>0.999931</td>\n",
              "      <td>0.869796</td>\n",
              "    </tr>\n",
              "  </tbody>\n",
              "</table>\n",
              "</div>\n",
              "      <button class=\"colab-df-convert\" onclick=\"convertToInteractive('df-aae00160-9aef-4303-890a-f97387bdb834')\"\n",
              "              title=\"Convert this dataframe to an interactive table.\"\n",
              "              style=\"display:none;\">\n",
              "        \n",
              "  <svg xmlns=\"http://www.w3.org/2000/svg\" height=\"24px\"viewBox=\"0 0 24 24\"\n",
              "       width=\"24px\">\n",
              "    <path d=\"M0 0h24v24H0V0z\" fill=\"none\"/>\n",
              "    <path d=\"M18.56 5.44l.94 2.06.94-2.06 2.06-.94-2.06-.94-.94-2.06-.94 2.06-2.06.94zm-11 1L8.5 8.5l.94-2.06 2.06-.94-2.06-.94L8.5 2.5l-.94 2.06-2.06.94zm10 10l.94 2.06.94-2.06 2.06-.94-2.06-.94-.94-2.06-.94 2.06-2.06.94z\"/><path d=\"M17.41 7.96l-1.37-1.37c-.4-.4-.92-.59-1.43-.59-.52 0-1.04.2-1.43.59L10.3 9.45l-7.72 7.72c-.78.78-.78 2.05 0 2.83L4 21.41c.39.39.9.59 1.41.59.51 0 1.02-.2 1.41-.59l7.78-7.78 2.81-2.81c.8-.78.8-2.07 0-2.86zM5.41 20L4 18.59l7.72-7.72 1.47 1.35L5.41 20z\"/>\n",
              "  </svg>\n",
              "      </button>\n",
              "      \n",
              "  <style>\n",
              "    .colab-df-container {\n",
              "      display:flex;\n",
              "      flex-wrap:wrap;\n",
              "      gap: 12px;\n",
              "    }\n",
              "\n",
              "    .colab-df-convert {\n",
              "      background-color: #E8F0FE;\n",
              "      border: none;\n",
              "      border-radius: 50%;\n",
              "      cursor: pointer;\n",
              "      display: none;\n",
              "      fill: #1967D2;\n",
              "      height: 32px;\n",
              "      padding: 0 0 0 0;\n",
              "      width: 32px;\n",
              "    }\n",
              "\n",
              "    .colab-df-convert:hover {\n",
              "      background-color: #E2EBFA;\n",
              "      box-shadow: 0px 1px 2px rgba(60, 64, 67, 0.3), 0px 1px 3px 1px rgba(60, 64, 67, 0.15);\n",
              "      fill: #174EA6;\n",
              "    }\n",
              "\n",
              "    [theme=dark] .colab-df-convert {\n",
              "      background-color: #3B4455;\n",
              "      fill: #D2E3FC;\n",
              "    }\n",
              "\n",
              "    [theme=dark] .colab-df-convert:hover {\n",
              "      background-color: #434B5C;\n",
              "      box-shadow: 0px 1px 3px 1px rgba(0, 0, 0, 0.15);\n",
              "      filter: drop-shadow(0px 1px 2px rgba(0, 0, 0, 0.3));\n",
              "      fill: #FFFFFF;\n",
              "    }\n",
              "  </style>\n",
              "\n",
              "      <script>\n",
              "        const buttonEl =\n",
              "          document.querySelector('#df-aae00160-9aef-4303-890a-f97387bdb834 button.colab-df-convert');\n",
              "        buttonEl.style.display =\n",
              "          google.colab.kernel.accessAllowed ? 'block' : 'none';\n",
              "\n",
              "        async function convertToInteractive(key) {\n",
              "          const element = document.querySelector('#df-aae00160-9aef-4303-890a-f97387bdb834');\n",
              "          const dataTable =\n",
              "            await google.colab.kernel.invokeFunction('convertToInteractive',\n",
              "                                                     [key], {});\n",
              "          if (!dataTable) return;\n",
              "\n",
              "          const docLinkHtml = 'Like what you see? Visit the ' +\n",
              "            '<a target=\"_blank\" href=https://colab.research.google.com/notebooks/data_table.ipynb>data table notebook</a>'\n",
              "            + ' to learn more about interactive tables.';\n",
              "          element.innerHTML = '';\n",
              "          dataTable['output_type'] = 'display_data';\n",
              "          await google.colab.output.renderOutput(dataTable, element);\n",
              "          const docLink = document.createElement('div');\n",
              "          docLink.innerHTML = docLinkHtml;\n",
              "          element.appendChild(docLink);\n",
              "        }\n",
              "      </script>\n",
              "    </div>\n",
              "  </div>\n",
              "  "
            ]
          },
          "metadata": {},
          "execution_count": 50
        }
      ]
    },
    {
      "cell_type": "markdown",
      "source": [
        "PREDICTION DATA for the actual Testdata"
      ],
      "metadata": {
        "id": "lSkqzZDQ6V7C"
      }
    },
    {
      "cell_type": "code",
      "source": [],
      "metadata": {
        "id": "DLNJLuQpghdu"
      },
      "execution_count": null,
      "outputs": []
    },
    {
      "cell_type": "code",
      "source": [
        "model = joblib.load('RandomForestRegressor.pkl')\n",
        "# Make predictions on the test data\n",
        "predictions = model.predict(testing_df)\n"
      ],
      "metadata": {
        "id": "UGQGw9FlAuJ-"
      },
      "execution_count": null,
      "outputs": []
    },
    {
      "cell_type": "code",
      "source": [
        "testing_df=pd.read_csv('/content/Test_Data_Set.csv')\n",
        "testing_df.head()"
      ],
      "metadata": {
        "colab": {
          "base_uri": "https://localhost:8080/",
          "height": 340
        },
        "id": "dZj2E-EYGwmj",
        "outputId": "181e2029-502a-49fe-e779-35195f1bb293"
      },
      "execution_count": null,
      "outputs": [
        {
          "output_type": "execute_result",
          "data": {
            "text/plain": [
              "      Id  Maker    model    Location  Distance       Owner Type  \\\n",
              "0  11001  skoda  octavia      Mumbai   150000.0           First   \n",
              "1  11002  skoda    rapid  Coimbatore    29376.0           Third   \n",
              "2  11003  skoda  octavia  Coimbatore    30563.0          Second   \n",
              "3  11004   audi       q3       Delhi     8650.0  Fourth & Above   \n",
              "4  11005   audi       tt     Chennai     6400.0           Third   \n",
              "\n",
              "   manufacture_year  Age of car  engine_displacement  engine_power body_type  \\\n",
              "0              2007          12                 1595          75.0       NaN   \n",
              "1              2014           5                 1598          77.0       NaN   \n",
              "2              2014           5                 1968         110.0       NaN   \n",
              "3              2015           4                 1968         110.0       NaN   \n",
              "4              2015           4                 1984         169.0       NaN   \n",
              "\n",
              "   Vroom Audit Rating transmission door_count seat_count fuel_type  \n",
              "0                   5          man          4          5    petrol  \n",
              "1                   4          man          4          5    diesel  \n",
              "2                   5          man          5          5    diesel  \n",
              "3                   8         auto          4          5    diesel  \n",
              "4                   4         auto          2       None    petrol  "
            ],
            "text/html": [
              "\n",
              "  <div id=\"df-a0bf8bf7-cd6d-4605-ad76-d446f6ebcc43\">\n",
              "    <div class=\"colab-df-container\">\n",
              "      <div>\n",
              "<style scoped>\n",
              "    .dataframe tbody tr th:only-of-type {\n",
              "        vertical-align: middle;\n",
              "    }\n",
              "\n",
              "    .dataframe tbody tr th {\n",
              "        vertical-align: top;\n",
              "    }\n",
              "\n",
              "    .dataframe thead th {\n",
              "        text-align: right;\n",
              "    }\n",
              "</style>\n",
              "<table border=\"1\" class=\"dataframe\">\n",
              "  <thead>\n",
              "    <tr style=\"text-align: right;\">\n",
              "      <th></th>\n",
              "      <th>Id</th>\n",
              "      <th>Maker</th>\n",
              "      <th>model</th>\n",
              "      <th>Location</th>\n",
              "      <th>Distance</th>\n",
              "      <th>Owner Type</th>\n",
              "      <th>manufacture_year</th>\n",
              "      <th>Age of car</th>\n",
              "      <th>engine_displacement</th>\n",
              "      <th>engine_power</th>\n",
              "      <th>body_type</th>\n",
              "      <th>Vroom Audit Rating</th>\n",
              "      <th>transmission</th>\n",
              "      <th>door_count</th>\n",
              "      <th>seat_count</th>\n",
              "      <th>fuel_type</th>\n",
              "    </tr>\n",
              "  </thead>\n",
              "  <tbody>\n",
              "    <tr>\n",
              "      <th>0</th>\n",
              "      <td>11001</td>\n",
              "      <td>skoda</td>\n",
              "      <td>octavia</td>\n",
              "      <td>Mumbai</td>\n",
              "      <td>150000.0</td>\n",
              "      <td>First</td>\n",
              "      <td>2007</td>\n",
              "      <td>12</td>\n",
              "      <td>1595</td>\n",
              "      <td>75.0</td>\n",
              "      <td>NaN</td>\n",
              "      <td>5</td>\n",
              "      <td>man</td>\n",
              "      <td>4</td>\n",
              "      <td>5</td>\n",
              "      <td>petrol</td>\n",
              "    </tr>\n",
              "    <tr>\n",
              "      <th>1</th>\n",
              "      <td>11002</td>\n",
              "      <td>skoda</td>\n",
              "      <td>rapid</td>\n",
              "      <td>Coimbatore</td>\n",
              "      <td>29376.0</td>\n",
              "      <td>Third</td>\n",
              "      <td>2014</td>\n",
              "      <td>5</td>\n",
              "      <td>1598</td>\n",
              "      <td>77.0</td>\n",
              "      <td>NaN</td>\n",
              "      <td>4</td>\n",
              "      <td>man</td>\n",
              "      <td>4</td>\n",
              "      <td>5</td>\n",
              "      <td>diesel</td>\n",
              "    </tr>\n",
              "    <tr>\n",
              "      <th>2</th>\n",
              "      <td>11003</td>\n",
              "      <td>skoda</td>\n",
              "      <td>octavia</td>\n",
              "      <td>Coimbatore</td>\n",
              "      <td>30563.0</td>\n",
              "      <td>Second</td>\n",
              "      <td>2014</td>\n",
              "      <td>5</td>\n",
              "      <td>1968</td>\n",
              "      <td>110.0</td>\n",
              "      <td>NaN</td>\n",
              "      <td>5</td>\n",
              "      <td>man</td>\n",
              "      <td>5</td>\n",
              "      <td>5</td>\n",
              "      <td>diesel</td>\n",
              "    </tr>\n",
              "    <tr>\n",
              "      <th>3</th>\n",
              "      <td>11004</td>\n",
              "      <td>audi</td>\n",
              "      <td>q3</td>\n",
              "      <td>Delhi</td>\n",
              "      <td>8650.0</td>\n",
              "      <td>Fourth &amp; Above</td>\n",
              "      <td>2015</td>\n",
              "      <td>4</td>\n",
              "      <td>1968</td>\n",
              "      <td>110.0</td>\n",
              "      <td>NaN</td>\n",
              "      <td>8</td>\n",
              "      <td>auto</td>\n",
              "      <td>4</td>\n",
              "      <td>5</td>\n",
              "      <td>diesel</td>\n",
              "    </tr>\n",
              "    <tr>\n",
              "      <th>4</th>\n",
              "      <td>11005</td>\n",
              "      <td>audi</td>\n",
              "      <td>tt</td>\n",
              "      <td>Chennai</td>\n",
              "      <td>6400.0</td>\n",
              "      <td>Third</td>\n",
              "      <td>2015</td>\n",
              "      <td>4</td>\n",
              "      <td>1984</td>\n",
              "      <td>169.0</td>\n",
              "      <td>NaN</td>\n",
              "      <td>4</td>\n",
              "      <td>auto</td>\n",
              "      <td>2</td>\n",
              "      <td>None</td>\n",
              "      <td>petrol</td>\n",
              "    </tr>\n",
              "  </tbody>\n",
              "</table>\n",
              "</div>\n",
              "      <button class=\"colab-df-convert\" onclick=\"convertToInteractive('df-a0bf8bf7-cd6d-4605-ad76-d446f6ebcc43')\"\n",
              "              title=\"Convert this dataframe to an interactive table.\"\n",
              "              style=\"display:none;\">\n",
              "        \n",
              "  <svg xmlns=\"http://www.w3.org/2000/svg\" height=\"24px\"viewBox=\"0 0 24 24\"\n",
              "       width=\"24px\">\n",
              "    <path d=\"M0 0h24v24H0V0z\" fill=\"none\"/>\n",
              "    <path d=\"M18.56 5.44l.94 2.06.94-2.06 2.06-.94-2.06-.94-.94-2.06-.94 2.06-2.06.94zm-11 1L8.5 8.5l.94-2.06 2.06-.94-2.06-.94L8.5 2.5l-.94 2.06-2.06.94zm10 10l.94 2.06.94-2.06 2.06-.94-2.06-.94-.94-2.06-.94 2.06-2.06.94z\"/><path d=\"M17.41 7.96l-1.37-1.37c-.4-.4-.92-.59-1.43-.59-.52 0-1.04.2-1.43.59L10.3 9.45l-7.72 7.72c-.78.78-.78 2.05 0 2.83L4 21.41c.39.39.9.59 1.41.59.51 0 1.02-.2 1.41-.59l7.78-7.78 2.81-2.81c.8-.78.8-2.07 0-2.86zM5.41 20L4 18.59l7.72-7.72 1.47 1.35L5.41 20z\"/>\n",
              "  </svg>\n",
              "      </button>\n",
              "      \n",
              "  <style>\n",
              "    .colab-df-container {\n",
              "      display:flex;\n",
              "      flex-wrap:wrap;\n",
              "      gap: 12px;\n",
              "    }\n",
              "\n",
              "    .colab-df-convert {\n",
              "      background-color: #E8F0FE;\n",
              "      border: none;\n",
              "      border-radius: 50%;\n",
              "      cursor: pointer;\n",
              "      display: none;\n",
              "      fill: #1967D2;\n",
              "      height: 32px;\n",
              "      padding: 0 0 0 0;\n",
              "      width: 32px;\n",
              "    }\n",
              "\n",
              "    .colab-df-convert:hover {\n",
              "      background-color: #E2EBFA;\n",
              "      box-shadow: 0px 1px 2px rgba(60, 64, 67, 0.3), 0px 1px 3px 1px rgba(60, 64, 67, 0.15);\n",
              "      fill: #174EA6;\n",
              "    }\n",
              "\n",
              "    [theme=dark] .colab-df-convert {\n",
              "      background-color: #3B4455;\n",
              "      fill: #D2E3FC;\n",
              "    }\n",
              "\n",
              "    [theme=dark] .colab-df-convert:hover {\n",
              "      background-color: #434B5C;\n",
              "      box-shadow: 0px 1px 3px 1px rgba(0, 0, 0, 0.15);\n",
              "      filter: drop-shadow(0px 1px 2px rgba(0, 0, 0, 0.3));\n",
              "      fill: #FFFFFF;\n",
              "    }\n",
              "  </style>\n",
              "\n",
              "      <script>\n",
              "        const buttonEl =\n",
              "          document.querySelector('#df-a0bf8bf7-cd6d-4605-ad76-d446f6ebcc43 button.colab-df-convert');\n",
              "        buttonEl.style.display =\n",
              "          google.colab.kernel.accessAllowed ? 'block' : 'none';\n",
              "\n",
              "        async function convertToInteractive(key) {\n",
              "          const element = document.querySelector('#df-a0bf8bf7-cd6d-4605-ad76-d446f6ebcc43');\n",
              "          const dataTable =\n",
              "            await google.colab.kernel.invokeFunction('convertToInteractive',\n",
              "                                                     [key], {});\n",
              "          if (!dataTable) return;\n",
              "\n",
              "          const docLinkHtml = 'Like what you see? Visit the ' +\n",
              "            '<a target=\"_blank\" href=https://colab.research.google.com/notebooks/data_table.ipynb>data table notebook</a>'\n",
              "            + ' to learn more about interactive tables.';\n",
              "          element.innerHTML = '';\n",
              "          dataTable['output_type'] = 'display_data';\n",
              "          await google.colab.output.renderOutput(dataTable, element);\n",
              "          const docLink = document.createElement('div');\n",
              "          docLink.innerHTML = docLinkHtml;\n",
              "          element.appendChild(docLink);\n",
              "        }\n",
              "      </script>\n",
              "    </div>\n",
              "  </div>\n",
              "  "
            ]
          },
          "metadata": {},
          "execution_count": 53
        }
      ]
    },
    {
      "cell_type": "code",
      "source": [
        "output_results = pd.DataFrame({'Id': testing_df['Id'], 'Price': predictions})"
      ],
      "metadata": {
        "id": "ady7mNvEHXzi"
      },
      "execution_count": null,
      "outputs": []
    },
    {
      "cell_type": "code",
      "source": [
        "output_results.to_csv('predictions_group_AasthaSankitaJunee.csv',index=False)"
      ],
      "metadata": {
        "id": "sJMAoihkHmZ0"
      },
      "execution_count": null,
      "outputs": []
    }
  ]
}